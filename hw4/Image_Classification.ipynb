{
 "metadata": {
  "name": ""
 },
 "nbformat": 3,
 "nbformat_minor": 0,
 "worksheets": [
  {
   "cells": [
    {
     "cell_type": "code",
     "collapsed": false,
     "input": [],
     "language": "python",
     "metadata": {},
     "outputs": []
    },
    {
     "cell_type": "code",
     "collapsed": false,
     "input": [
      "from skimage import data, io\n",
      "from skimage.filter import sobel\n",
      "from skimage import img_as_bool\n",
      "from skimage.morphology import skeletonize\n",
      "from sklearn.cross_validation import cross_val_score\n",
      "from sklearn import preprocessing\n",
      "from sklearn import cross_validation\n",
      "from sklearn.ensemble import RandomForestClassifier\n",
      "import skimage.filter\n",
      "from collections import defaultdict\n",
      "from sklearn.decomposition import RandomizedPCA\n",
      "import skimage.feature\n",
      "import scipy.ndimage as ndi\n",
      "import pandas as pd\n",
      "import scipy as sp\n",
      "import random \n",
      "import os\n",
      "import pickle\n",
      "\n",
      "import numpy as np\n",
      "from scipy import ndimage\n",
      "import matplotlib.pylab as plt\n",
      "%matplotlib inline\n",
      "\n",
      "from multiprocessing import Pool, cpu_count\n",
      "from time import time\n",
      "\n",
      "################## SET PATH TO IMAGES FOLDERS ###############################################\n",
      "MYDIRECTORY = \"/Users/andreagoldstein/Desktop/python_seminar_HW/Homework/hw4/50_categories\""
     ],
     "language": "python",
     "metadata": {},
     "outputs": [
      {
       "output_type": "stream",
       "stream": "stderr",
       "text": [
        "/Applications/anaconda/python.app/Contents/lib/python2.7/site-packages/pytz/__init__.py:35: UserWarning: Module argparse was already imported from /Applications/anaconda/python.app/Contents/lib/python2.7/argparse.pyc, but /Applications/anaconda/lib/python2.7/site-packages is being added to sys.path\n",
        "  from pkg_resources import resource_stream\n"
       ]
      }
     ],
     "prompt_number": 1
    },
    {
     "cell_type": "heading",
     "level": 1,
     "metadata": {},
     "source": [
      "ADAM RUN --> Basic Feature Extraction Section"
     ]
    },
    {
     "cell_type": "markdown",
     "metadata": {},
     "source": [
      "Includes the following functions:\n",
      "\n",
      "**get_colorData** -- returns color ratio and luminance information by calling ret_colorProps for the whole image and subsections of image Specifically, it segments the image into 9 piecies (using mask_seg with default segmentation)and calls ret_ColorProps for each portion of the image (including the whole image together) returns a dictionary containing the colo proprition data for each segment of the image\n",
      "\n",
      "**get_colorSym** -- Returns color and luminance symetry information by breaking image into top/bottom/left/right segments and then multiplying the values Greater values would then indicate larger symmetry across the image in the different directions If greyscale image only calculates data from luminance\n",
      "\n",
      "**fft_Info** -- extract phase, relative and absolute magnitude of fft information for subsections of image. Default splits fft space into 4x4 squares\n",
      "\n",
      "**num_Corners** -- calculate number of corners using harris and shi_tomasi methods "
     ]
    },
    {
     "cell_type": "code",
     "collapsed": false,
     "input": [
      "###########################################################\n",
      "##      Basic Feature Extraction section\n",
      "##Includes features from colors, fft and corner info\n",
      "##\n",
      "###########################################################    \n",
      "def get_colorData(im):\n",
      "    '''\n",
      "    returns color ratio and luminance information by calling ret_colorProps for the whole image and subsections of image\n",
      "    Specifically, it segments the image into 9 piecies (using mask_seg with default segmentation)\n",
      "    and calls ret_ColorProps for each portion of the image (including the whole image together)\n",
      "    returns a dictionary containing the colo proprition data for each segment of the image\n",
      "    \n",
      "    If the image is greyscale it only computes the luminance information\n",
      "    \n",
      "    input (im) -- image data in the form of a np matrix\n",
      "    returns (propColorDict) -- dictionar of color information for specific image\n",
      "    '''\n",
      "    propColorDict = dict()\n",
      "    \n",
      "    \n",
      "    ##For greyscale images get luminance\n",
      "    if len(im.shape)==2: \n",
      "        lum = ret_ColorProps(im)\n",
      "        propColorDict.update({'wholeIm_color_lum': lum})\n",
      "        mask = mask_seg(im) #return 3x3 seg image\n",
      "    \n",
      "    ##For RGB images get all color data\n",
      "    else:\n",
      "        lum, red, green, blue = ret_ColorProps(im) #get color info for whole image\n",
      "        propColorDict.update({'wholeIm_color_lum': lum, 'wholeIm_color_red': red, 'wholeIm_color_green': green, 'wholeIm_color_blue': blue})\n",
      "        mask = mask_seg(im[...,0]) #return 3x3 seg image\n",
      "   \n",
      "    #Mask uses default 3x3 segmentation, xSeg and ySeg below are used to get the width and hight indexes \n",
      "    #of the sub boxes for cropping image\n",
      "    ySeg = [1, 4, 7]\n",
      "    xSeg = [1, 2, 3]\n",
      "    \n",
      "    curVal = 1\n",
      "    for i, y in enumerate(ySeg):\n",
      "        for j, x in enumerate(xSeg):\n",
      "            curwidth = np.size(np.where(mask[:, 0]==y)) #Current row depth\n",
      "            curhight = np.size(np.where(mask[0, :]==x)) #Current column depth\n",
      "            \n",
      "            ##for greyscale images get luminance for each subsection\n",
      "            if len(im.shape)==2:\n",
      "                lum= ret_ColorProps(im[np.where(mask==curVal)].reshape(curwidth, curhight))\n",
      "                propColorDict.update({'segIm_%s_%s_color_lum' %(i, j): lum})  \n",
      "            \n",
      "            ##for RGB images get all color data for each subsection\n",
      "            else:\n",
      "                lum, red, green, blue = ret_ColorProps(im[np.where(mask==curVal)].reshape(curwidth, curhight, 3))\n",
      "                propColorDict.update({'segIm_%s_%s_color_lum' %(i, j): lum, 'segIm_%s_%s_color_red' %(i, j): red, 'segIm_%s_%s_color_gr' %(i, j): green, 'segIm_%s_%s_color_blue' %(i, j): blue})  \n",
      "            curVal +=1    \n",
      "    \n",
      "    return propColorDict\n",
      "            \n",
      "def get_colorSym(im):\n",
      "    '''\n",
      "    Returns color and luminance symetry information by breaking image into top/bottom/left/right segments and then multiplying the values\n",
      "    Greater values would then indicate larger symmetry across the image in the different directions\n",
      "    \n",
      "    If greyscale image only calculates data from luminance\n",
      "    \n",
      "    features returned in colorSymDict\n",
      "    '''\n",
      "    rMid = im.shape[0]/2\n",
      "    cMid = im.shape[1]/2\n",
      "    \n",
      "    if len(im.shape)==3:\n",
      "        #return color data for all quadrants\n",
      "        colorList = ['Lum', 'Red', 'Green', 'Blue']\n",
      "        topLum, topRed, topGreen, topBlue = ret_ColorProps(im[:rMid, :]) #top half\n",
      "        botLum, botRed, botGreen, botBlue = ret_ColorProps(im[rMid:, :]) #bottom half\n",
      "        lLum, lRed, lGreen, lBlue = ret_ColorProps(im[:, cMid:])         #left half\n",
      "        rLum, lRed, rGreen, rBlue = ret_ColorProps(im[:, :cMid])         #right half\n",
      "        \n",
      "        ltopLum, ltopRed, ltopGreen, ltopBlue = ret_ColorProps(im[:rMid, cMid:]) #top left quarter\n",
      "        lbotLum, lbotRed, lbotGreen, lbotBlue = ret_ColorProps(im[rMid:, cMid:]) #bottom left quarter\n",
      "        rtopLum, rtopRed, rtopGreen, rtopBlue = ret_ColorProps(im[:rMid, :cMid]) #top right quarter\n",
      "        rbotLum, rbotRed, rbotGreen, rbotBlue = ret_ColorProps(im[rMid:, :cMid]) #bottom right quarter\n",
      "        \n",
      "        #lists used for looping below\n",
      "        topList = [topLum, topRed, topGreen, topBlue] \n",
      "        botList = [botLum, botRed, botGreen, botBlue]\n",
      "        leftList = [lLum, lRed, lGreen, lBlue]\n",
      "        rightList = [rLum, lRed, rGreen, rBlue]\n",
      "        ltopList = [ltopLum, ltopRed, ltopGreen, ltopBlue]\n",
      "        rtopList = [rtopLum, rtopRed, rtopGreen, rtopBlue]\n",
      "        lbotList = [lbotLum, lbotRed, lbotGreen, lbotBlue]\n",
      "        rbotList = [rbotLum, rbotRed, rbotGreen, rbotBlue]\n",
      "        \n",
      "    else:\n",
      "        #Greyscale image -- return luminance data for all quadrants \n",
      "        colorList = ['Lum']\n",
      "        topLum  = ret_ColorProps(im[:rMid, :]) #top half\n",
      "        botLum  = ret_ColorProps(im[rMid:, :]) #bottom half\n",
      "        lLum = ret_ColorProps(im[:, cMid:])    #left half\n",
      "        rLum = ret_ColorProps(im[:, :cMid])    #right half\n",
      "        \n",
      "        ltopLum  = ret_ColorProps(im[:rMid, cMid:]) #top left quarter\n",
      "        lbotLum = ret_ColorProps(im[rMid:, cMid:])  #bottom left quarter\n",
      "        rtopLum = ret_ColorProps(im[:rMid, :cMid])  #top right quarter\n",
      "        rbotLum  = ret_ColorProps(im[rMid:, :cMid]) #bottom right quarter\n",
      "        \n",
      "        #lists used for looping below\n",
      "        topList = [topLum ]\n",
      "        botList = [botLum ]\n",
      "        leftList = [lLum ]\n",
      "        rightList = [rLum ]\n",
      "        ltopList = [ltopLum ]\n",
      "        rtopList = [rtopLum ]\n",
      "        lbotList = [lbotLum ]\n",
      "        rbotList = [rbotLum ]\n",
      "    \n",
      "    colorSymDict = dict()\n",
      "    \n",
      "    #loop through and calculate symetries by multiplying across halfs/quarters\n",
      "    for i, c in enumerate(colorList):\n",
      "        #toptobottom\n",
      "        colorSymDict.update({'ToptoBot_cSym_%s' %c: topList[i]*botList[i], 'LefttoRight_cSym_%s' %c: leftList[i]*rightList[i]})\n",
      "        colorSymDict.update({'LToptoRTop_cSym_%s' %c: ltopList[i]*rtopList[i], 'LBottoRBot_cSym_%s' %c: lbotList[i]*rbotList[i]})\n",
      "        colorSymDict.update({'LToptoLBot_cSym_%s' %c: ltopList[i]*lbotList[i], 'RToptoRBot_cSym_%s' %c: rtopList[i]*rbotList[i]})\n",
      "        colorSymDict.update({'LToptoRBot_cSym_%s' %c: ltopList[i]*rbotList[i], 'RToptoLBot_cSym_%s' %c: rtopList[i]*lbotList[i]})\n",
      "    \n",
      "    return colorSymDict \n",
      "    \n",
      "def fft_Info(im, xSeg=4, ySeg=4):\n",
      "    '''\n",
      "    extract phase, relative and absolute magnitude of fft information for subsections of image. Default splits fft space into 4x4 squares\n",
      "    Sequence --  \n",
      "        1) flattens image \n",
      "        2) performs fft \n",
      "        3) calculates magnitude (np.sqrt(ff.real**2 + ff.imag**2)) \n",
      "        4) calculates phase (np.arctan(ff.imag/ff.real))\n",
      "        5) crops phase/magnitude to 1 quadrent of the data to remove redundent information\n",
      "        6) calculates relative magnitude by dividing absolute magnitude its average\n",
      "        7) splits phase/magnitude space into 16 subparts (xSeg x ySeg) and calculates the average for each subsection\n",
      "        \n",
      "    saves resulting phase/magnitude information in fft_dictionary for each segment \n",
      "    '''\n",
      "    \n",
      "    if len(im.shape)==3: #if RGB flatten across 3rd color and perform fft\n",
      "        flatIm = np.mean(im, axis=2)\n",
      "        ff = np.fft.fft2(midSQ(flatIm))\n",
      "    else: #if greyscale compute fft without tranformation\n",
      "        ff = np.fft.fft2(midSQ(im))\n",
      "    \n",
      "    mag = np.sqrt(ff.real**2 + ff.imag**2) #get magnitude data\n",
      "    phase = np.arctan(ff.imag/ff.real)     #get phase data\n",
      "    \n",
      "    \n",
      "    #reduce data down to 1 quadrent to remove redundant information in fft-space\n",
      "    rMid = mag.shape[0]/2   \n",
      "    cMid = mag.shape[1]/2\n",
      "    magQ = mag[:rMid, :cMid]\n",
      "    phaseQ = phase[:rMid, :cMid]\n",
      "    \n",
      "    #calculate relative magnitude\n",
      "    relMagQ = magQ/np.mean(magQ)\n",
      "    \n",
      "    #whole fft space information\n",
      "    fft_dict = {'wholeIm_fft_phaseAvg': np.mean(phaseQ), 'wholeIm_fft_magQ': np.mean(magQ)}\n",
      "    \n",
      "    #segment fft space into further subsquares and take average of phase/magnitude data across each subsection\n",
      "    wInd = np.hstack(np.round(np.linspace(0, rMid, num=xSeg+1))) #end points for sub boxes\n",
      "    hInd = np.hstack(np.round(np.linspace(0, cMid, num=ySeg+1))) \n",
      "    #maskIm = np.zeros(im.shape)\n",
      "    #curVal = 1\n",
      "    for x in range(xSeg):\n",
      "        for y in range(ySeg):\n",
      "            phaseAvg = np.mean(phaseQ[wInd[x]:wInd[x+1], hInd[y]:hInd[y+1]])\n",
      "            relMag = np.mean(relMagQ[wInd[x]:wInd[x+1], hInd[y]:hInd[y+1]])\n",
      "            absMag = np.mean(magQ[wInd[x]:wInd[x+1], hInd[y]:hInd[y+1]])\n",
      "            fft_dict.update({'segIm_%s_%s_fft_phaseAvg' %(x, y): phaseAvg, 'segIm_%s_%s_fft_relMag' %(x, y): relMag, 'segIm_%s_%s_fft_absMag' %(x, y): absMag})  \n",
      "            \n",
      "    return fft_dict\n",
      "\n",
      "def get_Edges(im, threshholds = [.35]):\n",
      "    '''\n",
      "    uses v and h sobel filters to find vertical and horizontal edges. Then it calculates \n",
      "        1) proportion of vertical edges to number total pixels\n",
      "        2) proportion of horizontal edges to number total pixeles\n",
      "        3) ratio of vertical to horizontal edges\n",
      "        All edges are thresholded at .3 of the maximum value \n",
      "    '''\n",
      "    #Flatten Image\n",
      "    if len(im.shape)==3: \n",
      "        im = np.mean(im, axis=2)\n",
      "    \n",
      "    #Number of pixeles\n",
      "    totNum = float(np.size(im))\n",
      "    edgeDict = defaultdict()\n",
      "    \n",
      "    for thresh in threshholds:\n",
      "        #Calculate vertical edges\n",
      "        vEdge = skimage.filter.vsobel(im)\n",
      "        vEdgeCount = np.sum(vEdge>vEdge.max()*thresh, dtype = float)\n",
      "        vEdge_To_Total = vEdgeCount/totNum\n",
      "            \n",
      "        #Calculate horizontal edges\n",
      "        hEdge = skimage.filter.hsobel(im)\n",
      "        hEdgeCount = np.sum(hEdge>hEdge.max()*thresh, dtype = float)\n",
      "        hEdge_To_Total = hEdgeCount/totNum\n",
      "            \n",
      "        #Calculate horizontal to vertical edges\n",
      "        hEdge_To_vEdge = hEdgeCount/vEdgeCount\n",
      "            \n",
      "        edgeDict.update({'vEdge_to_Total_%s' %thresh: vEdge_To_Total, 'hEdge_to_Total_%s' %thresh: hEdge_To_Total, 'hEdge_to_vEdge_%s' %thresh: hEdge_To_vEdge})\n",
      "        \n",
      "    return edgeDict\n",
      "        \n",
      "        \n",
      "    \n",
      "\n",
      "def num_Corners(im, minDist=[2], relThresh=[.001]):\n",
      "    '''\n",
      "    calculate number of corners using harris and shi_tomasi methods \n",
      "    can input an array of minDistances and relative thresholds to run corner detection algorithms with alternative parameters\n",
      "    \n",
      "    returns dictionary of corner number information\n",
      "    '''\n",
      "    cornDict = dict()\n",
      "    if len(im.shape)==2: #if greyscale image need to extend for 3 dimensions to get corner algorithm to work\n",
      "        newIm = np.zeros((np.shape(im)[0], np.shape(im)[1], 3))\n",
      "        newIm[..., 0] = im\n",
      "        newIm[..., 1] = im\n",
      "        newIm[..., 2] = im\n",
      "        im = newIm\n",
      "    for d in minDist:\n",
      "        for r in relThresh:\n",
      "            numCorn_Harris = len(skimage.feature.corner_peaks(skimage.feature.corner_harris(im), min_distance=d, threshold_rel=r))\n",
      "            numCorn_shi_tomasi = len(skimage.feature.corner_peaks(skimage.feature.corner_shi_tomasi(im), min_distance=d, threshold_rel=r))\n",
      "            cornDict.update({'numCorn_Harris_%s_%s' %(d, r): numCorn_Harris, 'numCorn_shi_%s_%s' %(d, r): numCorn_shi_tomasi})\n",
      "    return cornDict"
     ],
     "language": "python",
     "metadata": {},
     "outputs": [],
     "prompt_number": 3
    },
    {
     "cell_type": "heading",
     "level": 1,
     "metadata": {},
     "source": [
      "ADAM RUN --> Helper Functions"
     ]
    },
    {
     "cell_type": "code",
     "collapsed": false,
     "input": [
      "#### Helper functions to calculate, return and display features ####\n",
      "def split_seq(seq, size):\n",
      "        '''\n",
      "        Divides up large list into multiple small lists attempting to keep them all the same size used for extracting the basic features\n",
      "        '''\n",
      "        newseq = []\n",
      "        splitsize = 1.0/size*len(seq)\n",
      "        for i in range(size):\n",
      "            newseq.append(seq[int(round(i*splitsize)):\n",
      "                int(round((i+1)*splitsize))])\n",
      "        return newseq\n",
      "    \n",
      "def makeColor_Dict(catArray, colormap = plt.cm.jet):\n",
      "    '''\n",
      "    create dictionary for color assigment using inputed category array and color map\n",
      "    input:\n",
      "        catArray --     string array length of the incoming data which will determine categories and coloring \n",
      "    returns:\n",
      "        d -- a color index to category dictionary using a given color map\n",
      "    \n",
      "    '''\n",
      "    uniqCats = np.unique(catArray)      #find unique categories \n",
      "    inc = np.round(np.linspace(0, colormap.N, num=len(uniqCats))).astype(int)     #get evenly distributed colors from color map based on num categories\n",
      "    d = dict((key, value) for (key, value) in zip(uniqCats, inc))           #dictionary of color to category assignments\n",
      "    return d\n",
      "\n",
      "def setColor(catArray, d, colormap = plt.cm.jet):\n",
      "    '''\n",
      "    generate color list to be used for plotting functions, keeps categories same consistant colors\n",
      "    \n",
      "    inputs:\n",
      "        catArray --      string array the length of working dataset \n",
      "        d --             color index to category dictionary will be used for color assignment\n",
      "        colormap --      desired colormap current working colormap is jet\n",
      "    returns:\n",
      "        colorLIst --    a list of tuples to be used for color assignment in plotting functions derived from colorDict\n",
      "    '''    \n",
      "    colorList = []\n",
      "    for i in catArray:\n",
      "        #print \"%s %s %s\" %(i, d[i], colormap(d[i]))\n",
      "        colorList.append(colormap(d[i])) #desired rgba tuple for given category\n",
      "    return colorList \n",
      "\n",
      "def makePlot(dataIn, keys, catArray):\n",
      "    ''' \n",
      "    makes initial plot from inported CSV\n",
      "    inputs:\n",
      "        dataIn -- structured input with keys from header information, either float or integer\n",
      "        catArray -- string array determining way to split the data used to determine color \n",
      "    returns:\n",
      "        f -- current figure frame\n",
      "        ax -- matric of axes generated \n",
      "    '''    \n",
      "    #keys = dataIn.dtype.names\n",
      "    #colorDict = makeColor_Dict(catArray)\n",
      "    #if keys == None:\n",
      "    #    print 'wrong type of datainput'\n",
      "    #    #f, ax = plt.subplots()\n",
      "    #    #scat = ax.scatter(data,data, s=40, c=setColor(catArray, colorDict), cmap = 'RdYlGn', alpha = .4)\n",
      "    #else:\n",
      "    nRows = len(keys)\n",
      "    nCols = len(keys)\n",
      "    f, ax = plt.subplots(nRows, nCols, sharex='col', sharey='row')\n",
      "    for c, cKey in enumerate(keys):\n",
      "        for r, rKey in enumerate(keys):\n",
      "            scat = ax[r,c].scatter(dataIn[cKey].values,dataIn[rKey].values, s=40, c=setColor(catArray, colorDict), alpha = .3)\n",
      "            if r==c:\n",
      "                ax[r, c].text(0.1, 0.95, cKey,\n",
      "        verticalalignment='top', horizontalalignment='left',\n",
      "        transform=ax[r,c].transAxes,\n",
      "        fontsize=10)\n",
      "    #ax[nRows-1, nCols-1].legend(scat)     \n",
      "    return f, ax\n",
      "\n",
      "####Make PCA Raw data #########\n",
      "def extract_PCA_features(im_path_List, n_comp=15, validation=False):\n",
      "    ''' \n",
      "    extract PCA features from list of images, should only be run on the training set and not on the testing set\n",
      "    for the testing set need to transform based on the fitted model.\n",
      "    \n",
      "    saves a pickled model of the tranform information in 'PCA_Features_Model.p'\n",
      "    '''\n",
      "    PCA_Data = []\n",
      "    PCA_FIDs =[]\n",
      "\n",
      "    for im_path in im_path_List:\n",
      "        #print im_path\n",
      "        if '.jpg' in im_path:\n",
      "            im = plt.imread(im_path)\n",
      "           \n",
      "            #Run PCA Preprocessing\n",
      "            if len(im.shape)==3:\n",
      "                im = flatten_image(img_to_matrix(im))\n",
      "                PCA_Data.append(im)\n",
      "                PCA_FIDs.append(im_path.split('/')[-1])\n",
      "    PCA_Data = np.array(PCA_Data)\n",
      "        \n",
      "    \n",
      "    if validation == False:\n",
      "        pca = RandomizedPCA(n_components=n_comp)\n",
      "        PCA_Features = pca.fit_transform(np.array(PCA_Data))\n",
      "        pickle.dump(pca, open('PCA_Features_Model.p', 'w'))\n",
      "        print PCA_Features.shape\n",
      "    else:\n",
      "        pca = pickle.load(open('./PCA_Features_Model.p', 'rb'))\n",
      "        PCA_Features = pca.transform(np.array(PCA_Data))\n",
      "        \n",
      "    #make dictionary from PCA_features\n",
      "    PCA_FeaturesDict = dict()\n",
      "    for i, fid in enumerate(PCA_FIDs):\n",
      "        fid_dict = dict()\n",
      "        for c in range(n_comp):\n",
      "            fid_dict.update({'PCAcomp_%s' %c: PCA_Features[i, c]}) \n",
      "        PCA_FeaturesDict.update({fid: fid_dict})\n",
      "    return pca, PCA_FeaturesDict\n",
      "\n",
      "def extract_basic_features(im_path_List, validation=False):\n",
      "    '''\n",
      "    from loaded in image creates a dict of features extracted from the image. Specific feature methods are listed below in other methods\n",
      "    feature_list --  features for a given image in the form of a dictionary\n",
      "    '''\n",
      "    feature_list = dict()\n",
      "    for im_path in im_path_List:\n",
      "\n",
      "        im = plt.imread(im_path)\n",
      "              \n",
      "        if im.shape[0]<200 or im.shape[1]<200: #if image is too small make it larger important for the fft feature\n",
      "            im = imReshape_large(im)\n",
      "        #if im.shape[0]>450 or im.shape[1]>600: #if image is too small make it larger important for the fft feature\n",
      "        #    im = imReshape_shrink(im)\n",
      "        #print im_path.split('/')[-1]\n",
      "        features = defaultdict(int)           #initiate features dictionary\n",
      "        features.update(get_colorData(im))    #breaks image into 9 segments and returns color space information\n",
      "        features.update(fft_Info(im))         #crops center square of image and calculates a 2-dfft, returns phase/mag info for chunked portions of fft space \n",
      "        features.update(num_Corners(im, minDist=[2,  6], relThresh=[.001])) #retunrs number of corners using haris corners detection algorithm\n",
      "        #features.update(num_Corners(im, minDist=[6], relThresh=[.001])) \n",
      "        features.update(get_Edges(im, threshholds=[.3, .2, .1]))\n",
      "        features.update(get_colorSym(im))     #checks for  symetry of colors across horizontal and vertical axes\n",
      "        if validation == False:\n",
      "            features.update({'cat': im_path.split('/')[-2]})         #50 category label\n",
      "            features.update({'hyperCat': get_hyperCat(im_path.split('/')[-2])})     #hyper category label\n",
      "        feature_list.update({'%s' %im_path.split('/')[-1]: features})\n",
      "    \n",
      "    return feature_list\n",
      "\n",
      "def ret_ColorProps(im):\n",
      "    '''\n",
      "    takes in an RGB image (or image segment) and returns the average proportion of each channel color/allchannels (e.g. r = R/(R+G+B) and luminance (basic average of each color value)\n",
      "    if image is greyscale just returns the luminance\n",
      "    used by feature extractor get_ColorData()\n",
      "    \n",
      "    '''\n",
      "    if len(im.shape)==3:\n",
      "        allChannels = np.mean(np.sum(im, axis=2)) #gets overall color information combined across color channels\n",
      "        redProp = np.mean(im[..., 0])/allChannels #red contribution\n",
      "        grProp  = np.mean(im[..., 1])/allChannels #green contribution\n",
      "        blProp  = np.mean(im[..., 2])/allChannels #blue contribution\n",
      "    \n",
      "    lum = np.mean(im) #flattened luminance across whole segment\n",
      "    if len(im.shape)==3:\n",
      "        return lum, redProp, grProp, blProp\n",
      "    else:\n",
      "        return lum\n",
      "\n",
      "def imReshape_large(im):\n",
      "    '''\n",
      "    magnifies image by 2\n",
      "    '''\n",
      "    newH = np.shape(im)[0]*2\n",
      "    newW = np.shape(im)[1]*2\n",
      "    im = sp.misc.imresize(im, (newH, newW))\n",
      "    return im\n",
      "\n",
      "def imReshape_shrink(im):\n",
      "    '''\n",
      "    reduces image by 1/3\n",
      "    '''\n",
      "    newH = np.shape(im)[0]*8/3\n",
      "    newW = np.shape(im)[1]*8/3\n",
      "    im = sp.misc.imresize(im, (newH, newW))\n",
      "    return im\n",
      "\n",
      "def midSQ(im, size=100):\n",
      "    '''\n",
      "    extracts center square from image with horizontal and vertical edges 2*size (default size=200)\n",
      "    '''\n",
      "    x1 = np.shape(im)[0]/2 - size\n",
      "    x2 = np.shape(im)[0]/2 + size\n",
      "    y1 = np.shape(im)[1]/2 - size\n",
      "    y2 = np.shape(im)[1]/2 + size\n",
      "    \n",
      "    msIM = im[x1:x2, y1:y2]\n",
      "    return msIM\n",
      "\n",
      "def getclass(fileid):\n",
      "    '''returns category \n",
      "    fileid = filename of current image\n",
      "    '''\n",
      "    return fileid.split('/')[2]\n",
      "\n",
      "def get_hyperCat(cat):\n",
      "    ''' \n",
      "    returns hyper category value for specific image based on the category\n",
      "    e.g. the category 'bear' would return the hypercategory 'landAnimals'\n",
      "    '''\n",
      "    hyperCatDict = {'transportation': ['airplanes', 'blimp', 'helicopter', 'hot-air-balloon', 'speed-boat'], \n",
      "    'birds': ['bat',  'cormorant', 'duck',  'goose',  'hummingbird', 'ostrich', 'owl', 'penguin', 'swan'],\n",
      "    'landAnimals': ['bear', 'camel', 'dog', 'elephant', 'elk', 'giraffe', 'goat', 'gorilla', 'horse', 'kangaroo', 'leopards', 'llama', 'porcupine', 'raccoon', 'skunk', 'teddy-bear', 'unicorn', 'triceratops', 'zebra'],\n",
      "    'waterAnimals': ['conch', 'crab',  'dolphin', 'killer-whale', 'starfish', 'goldfish', 'mussels', 'octopus'],\n",
      "    'space': ['galaxy', 'mars', 'saturn', 'comet'],\n",
      "    'otherAnimals': ['frog', 'iguana', 'snail', 'snake', 'toad']}\n",
      "    \n",
      "    hypercats = ['transportation', 'birds', 'landAnimals', 'waterAnimals', 'space', 'otherAnimals']\n",
      "    \n",
      "    for h in hypercats:\n",
      "        if cat in hyperCatDict[h]:\n",
      "            return h\n",
      "\n",
      "def mask_seg(im, xSeg=3, ySeg=3):\n",
      "    '''\n",
      "    create a labeled mask of image (im) into a xSeg x ySeg pieces\n",
      "    subsquares will be labeled from 1 to xSeg*ySeg\n",
      "    '''\n",
      "    imW, imH = im.shape            #current image shape\n",
      "    wInd = np.hstack(np.round(np.linspace(0, imW, num=xSeg+1))) #end points for sub boxes\n",
      "    hInd = np.hstack(np.round(np.linspace(0, imH, num=ySeg+1))) \n",
      "    maskIm = np.zeros(im.shape) #initialize mask\n",
      "    curVal = 1\n",
      "    for x in range(xSeg):\n",
      "        for y in range(ySeg):\n",
      "            maskIm[wInd[x]:wInd[x+1], hInd[y]:hInd[y+1]] = curVal #assign value to subsquare of mask\n",
      "            curVal +=1\n",
      "    return maskIm\n",
      "\n",
      "\n",
      "\n",
      "#setup a standard image size; this will distort some images but will get everything into the same shape used only for\n",
      "#the PCA features extraction\n",
      "STANDARD_SIZE = (75, 100)\n",
      "def img_to_matrix(img, verbose=False):\n",
      "    \"\"\"\n",
      "    downsizes incoming image to STANDARD_SIZE and reshapes from a 3d matrix (m, n, o) to a 2 dimensional array of (m*n, o)\n",
      "    should not be processed on greyscale images\n",
      "    sImg - smaller and flattend version of image used for PCA components\n",
      "    \"\"\"\n",
      "    \n",
      "    if len(np.shape(img))==2:\n",
      "        return\n",
      "    \n",
      "    sImg = sp.misc.imresize(img, STANDARD_SIZE)\n",
      "    sImg = sImg.reshape(STANDARD_SIZE[0]*STANDARD_SIZE[1], 3)\n",
      "    if verbose==True:\n",
      "        print \"changing size from %s to %s\" % (str(img.size), str(STANDARD_SIZE))\n",
      "    return sImg \n",
      "\n",
      "def flatten_image(img):\n",
      "    \"\"\"\n",
      "    takes in an (m, n) numpy array and flattens it\n",
      "    into an array of shape (1, m * n)\n",
      "    \"\"\"\n",
      "    s = img.shape[0] * img.shape[1]\n",
      "    img_wide = img.reshape(1, s)\n",
      "    return img_wide[0]\n"
     ],
     "language": "python",
     "metadata": {},
     "outputs": [],
     "prompt_number": 4
    },
    {
     "cell_type": "code",
     "collapsed": false,
     "input": [
      "test_df = pd.DataFrame.from_dict(test, orient='index')\n",
      "test_df.to_csv('test.csv', float_format='%.4f' )"
     ],
     "language": "python",
     "metadata": {},
     "outputs": [],
     "prompt_number": 45
    },
    {
     "cell_type": "heading",
     "level": 1,
     "metadata": {},
     "source": [
      "DO NOT RUN -- Training Feature Extraction Only -- DO NOT USE FOR FINAL CLASSIFIER"
     ]
    },
    {
     "cell_type": "code",
     "collapsed": false,
     "input": [
      "############ extract training features ################\n",
      "######    DO NOT USE FOR FINAL CLASSIFIER #############\n",
      "#######################################################\n",
      "\n",
      "'''\n",
      "Due to issues running some of the subfolders and the time it took to extract the featres (even with running multiple cores) I ended up runnign this algorthim and then \n",
      "creating a csv file output for each training category that saved the features those csv files would then be loaded in later to run the analyses\n",
      "\n",
      "for those that would not run using the multiple cor algorithm I used the function of the next cell which goes manually\n",
      "\n",
      "The multicore component only computes the feature extraction for the basic features since you need to send in all data fiels at the same time to calculate the PCA components\n",
      "\n",
      "'''\n",
      "\n",
      "categories = os.listdir(MYDIRECTORY)\n",
      "categories.remove('.DS_Store') \n",
      "categories = np.array(categories)\n",
      "\n",
      "#specified categories by hand since had issues running all \n",
      "#categories = ['porcupine', 'raccoon', 'saturn', 'skunk', 'snail', 'snake', 'speed-boat', 'starfish', 'swan', 'teddy-bear', 'toad', 'triceratops', 'unicorn', 'zebra']\n",
      "#categories = ['blimp']\n",
      "fileid = []\n",
      "for category in categories:\n",
      "    image_names = os.listdir(MYDIRECTORY  + \"/\" + category)\n",
      "    \n",
      "    fileid = []\n",
      "    for name in image_names:\n",
      "        if name!= '.DS_Store':\n",
      "            fileid.append(MYDIRECTORY + \"/\" + category + \"/\" + name)\n",
      "\n",
      "    print (\"Category: \" + category + \" \" +\n",
      "    str(len(fileid)) + \".\")\n",
      "\n",
      "    # Then, we run the feature extraction function using multiprocessing.Pool so \n",
      "    # so that we can parallelize the process and run it much faster.\n",
      "    #numprocessors = cpu_count() # To see results of parallelizing, set numprocessors\n",
      "                                # to less than cpu_count().\n",
      "    numprocessors = 8\n",
      "    \n",
      "    # We have to cut up the image_paths list into the number of processes we want to\n",
      "    # run. \n",
      "    #print fileid\n",
      "    split_image_paths = split_seq(fileid, numprocessors)\n",
      "    \n",
      "    # Ok, this block is where the parallel code runs. We time it so we can get a \n",
      "    # feel for the speed up.\n",
      "    start_time = time()\n",
      "    p = Pool(numprocessors)\n",
      "    basic_Features_results = p.map_async(extract_basic_features, split_image_paths)    \n",
      "    poolresult_Basic = basic_Features_results.get()\n",
      "    \n",
      "    end_time = time()\n",
      "\n",
      "    # All done, print timing results.\n",
      "    print (\"Finished extracting features. Total time: \" + \n",
      "        str(round(end_time-start_time, 3)) + \" s, or \" + \n",
      "        str( round( (end_time-start_time)/len(fileid), 5 ) ) + \" s/image.\")\n",
      "    # This took about 10-11 seconds on my 2.2 GHz, Core i7 MacBook Pro. It may also\n",
      "    # be affected by hard disk read speeds.\n",
      "\n",
      "    basicFeaturesDict = dict()\n",
      "    for i in poolresult_Basic:\n",
      "        basicFeaturesDict.update(i)\n",
      "    \n",
      "    #save extracted features to csv file to load in later \n",
      "    basicFeatures_df = pd.DataFrame.from_dict(basicFeaturesDict, orient='index')\n",
      "    basicFeatures_df.to_csv('%s.csv' %category)\n",
      "    \n",
      "    p.close()"
     ],
     "language": "python",
     "metadata": {},
     "outputs": [
      {
       "output_type": "stream",
       "stream": "stdout",
       "text": [
        "Category: airplanes 533.\n"
       ]
      },
      {
       "output_type": "stream",
       "stream": "stdout",
       "text": [
        "Finished extracting features. Total time: 83.526 s, or 0.15671 s/image.\n",
        "Category: bat 71."
       ]
      },
      {
       "output_type": "stream",
       "stream": "stdout",
       "text": [
        "\n"
       ]
      },
      {
       "output_type": "stream",
       "stream": "stdout",
       "text": [
        "Finished extracting features. Total time: 9.489 s, or 0.13365 s/image.\n",
        "Category: bear 68."
       ]
      },
      {
       "output_type": "stream",
       "stream": "stdout",
       "text": [
        "\n"
       ]
      },
      {
       "output_type": "stream",
       "stream": "stdout",
       "text": [
        "Finished extracting features. Total time: 38.545 s, or 0.56683 s/image.\n",
        "Category: blimp 57."
       ]
      },
      {
       "output_type": "stream",
       "stream": "stdout",
       "text": [
        "\n"
       ]
      },
      {
       "output_type": "stream",
       "stream": "stdout",
       "text": [
        "Finished extracting features. Total time: 6.699 s, or 0.11753 s/image.\n",
        "Category: camel 73."
       ]
      },
      {
       "output_type": "stream",
       "stream": "stdout",
       "text": [
        "\n"
       ]
      },
      {
       "output_type": "stream",
       "stream": "stdout",
       "text": [
        "Finished extracting features. Total time: 29.662 s, or 0.40633 s/image.\n",
        "Category: comet 81."
       ]
      },
      {
       "output_type": "stream",
       "stream": "stdout",
       "text": [
        "\n"
       ]
      },
      {
       "output_type": "stream",
       "stream": "stdout",
       "text": [
        "Finished extracting features. Total time: 9.624 s, or 0.11881 s/image.\n",
        "Category: conch 69."
       ]
      },
      {
       "output_type": "stream",
       "stream": "stdout",
       "text": [
        "\n"
       ]
      },
      {
       "output_type": "stream",
       "stream": "stdout",
       "text": [
        "Finished extracting features. Total time: 7.804 s, or 0.1131 s/image.\n",
        "Category: cormorant 71."
       ]
      },
      {
       "output_type": "stream",
       "stream": "stdout",
       "text": [
        "\n"
       ]
      },
      {
       "output_type": "stream",
       "stream": "stdout",
       "text": [
        "Finished extracting features. Total time: 23.127 s, or 0.32574 s/image.\n",
        "Category: crab 57."
       ]
      },
      {
       "output_type": "stream",
       "stream": "stdout",
       "text": [
        "\n"
       ]
      },
      {
       "output_type": "stream",
       "stream": "stdout",
       "text": [
        "Finished extracting features. Total time: 8.519 s, or 0.14946 s/image.\n",
        "Category: dog 68."
       ]
      },
      {
       "output_type": "stream",
       "stream": "stdout",
       "text": [
        "\n"
       ]
      },
      {
       "output_type": "stream",
       "stream": "stdout",
       "text": [
        "Finished extracting features. Total time: 9.539 s, or 0.14028 s/image.\n",
        "Category: dolphin 71."
       ]
      },
      {
       "output_type": "stream",
       "stream": "stdout",
       "text": [
        "\n"
       ]
      },
      {
       "output_type": "stream",
       "stream": "stdout",
       "text": [
        "Finished extracting features. Total time: 12.381 s, or 0.17438 s/image.\n",
        "Category: duck 58."
       ]
      },
      {
       "output_type": "stream",
       "stream": "stdout",
       "text": [
        "\n"
       ]
      },
      {
       "output_type": "stream",
       "stream": "stdout",
       "text": [
        "Finished extracting features. Total time: 17.241 s, or 0.29725 s/image.\n",
        "Category: elephant 87."
       ]
      },
      {
       "output_type": "stream",
       "stream": "stdout",
       "text": [
        "\n"
       ]
      },
      {
       "output_type": "stream",
       "stream": "stdout",
       "text": [
        "Finished extracting features. Total time: 17.483 s, or 0.20096 s/image.\n",
        "Category: elk 67."
       ]
      },
      {
       "output_type": "stream",
       "stream": "stdout",
       "text": [
        "\n"
       ]
      },
      {
       "output_type": "stream",
       "stream": "stdout",
       "text": [
        "Finished extracting features. Total time: 19.364 s, or 0.28901 s/image.\n",
        "Category: frog 77."
       ]
      },
      {
       "output_type": "stream",
       "stream": "stdout",
       "text": [
        "\n"
       ]
      },
      {
       "output_type": "stream",
       "stream": "stdout",
       "text": [
        "Finished extracting features. Total time: 30.631 s, or 0.39781 s/image.\n",
        "Category: galaxy 54."
       ]
      },
      {
       "output_type": "stream",
       "stream": "stdout",
       "text": [
        "\n"
       ]
      },
      {
       "output_type": "stream",
       "stream": "stdout",
       "text": [
        "Finished extracting features. Total time: 23.759 s, or 0.43999 s/image.\n",
        "Category: giraffe 56."
       ]
      },
      {
       "output_type": "stream",
       "stream": "stdout",
       "text": [
        "\n"
       ]
      },
      {
       "output_type": "stream",
       "stream": "stdout",
       "text": [
        "Finished extracting features. Total time: 8.728 s, or 0.15586 s/image.\n",
        "Category: goat 75."
       ]
      },
      {
       "output_type": "stream",
       "stream": "stdout",
       "text": [
        "\n"
       ]
      },
      {
       "output_type": "stream",
       "stream": "stdout",
       "text": [
        "Finished extracting features. Total time: 17.929 s, or 0.23905 s/image.\n",
        "Category: goldfish 62."
       ]
      },
      {
       "output_type": "stream",
       "stream": "stdout",
       "text": [
        "\n"
       ]
      },
      {
       "output_type": "stream",
       "stream": "stdout",
       "text": [
        "Finished extracting features. Total time: 24.523 s, or 0.39554 s/image.\n",
        "Category: goose 73."
       ]
      },
      {
       "output_type": "stream",
       "stream": "stdout",
       "text": [
        "\n"
       ]
      },
      {
       "output_type": "stream",
       "stream": "stdout",
       "text": [
        "Finished extracting features. Total time: 29.169 s, or 0.39957 s/image.\n",
        "Category: gorilla 141."
       ]
      },
      {
       "output_type": "stream",
       "stream": "stdout",
       "text": [
        "\n"
       ]
      },
      {
       "output_type": "stream",
       "stream": "stdout",
       "text": [
        "Finished extracting features. Total time: 25.011 s, or 0.17739 s/image.\n",
        "Category: helicopter 59."
       ]
      },
      {
       "output_type": "stream",
       "stream": "stdout",
       "text": [
        "\n"
       ]
      },
      {
       "output_type": "stream",
       "stream": "stdout",
       "text": [
        "Finished extracting features. Total time: 6.578 s, or 0.11149 s/image.\n",
        "Category: horse 180."
       ]
      },
      {
       "output_type": "stream",
       "stream": "stdout",
       "text": [
        "\n"
       ]
      },
      {
       "output_type": "stream",
       "stream": "stdout",
       "text": [
        "Finished extracting features. Total time: 26.801 s, or 0.14889 s/image.\n",
        "Category: hot-air-balloon 59."
       ]
      },
      {
       "output_type": "stream",
       "stream": "stdout",
       "text": [
        "\n"
       ]
      },
      {
       "output_type": "stream",
       "stream": "stdout",
       "text": [
        "Finished extracting features. Total time: 15.184 s, or 0.25736 s/image.\n",
        "Category: hummingbird 77."
       ]
      },
      {
       "output_type": "stream",
       "stream": "stdout",
       "text": [
        "\n"
       ]
      },
      {
       "output_type": "stream",
       "stream": "stdout",
       "text": [
        "Finished extracting features. Total time: 28.916 s, or 0.37553 s/image.\n",
        "Category: iguana 71."
       ]
      },
      {
       "output_type": "stream",
       "stream": "stdout",
       "text": [
        "\n"
       ]
      },
      {
       "output_type": "stream",
       "stream": "stdout",
       "text": [
        "Finished extracting features. Total time: 13.75 s, or 0.19367 s/image.\n",
        "Category: kangaroo 55."
       ]
      },
      {
       "output_type": "stream",
       "stream": "stdout",
       "text": [
        "\n"
       ]
      },
      {
       "output_type": "stream",
       "stream": "stdout",
       "text": [
        "Finished extracting features. Total time: 5.092 s, or 0.09259 s/image.\n",
        "Category: killer-whale 61."
       ]
      },
      {
       "output_type": "stream",
       "stream": "stdout",
       "text": [
        "\n"
       ]
      },
      {
       "output_type": "stream",
       "stream": "stdout",
       "text": [
        "Finished extracting features. Total time: 20.425 s, or 0.33484 s/image.\n",
        "Category: leopards 127."
       ]
      },
      {
       "output_type": "stream",
       "stream": "stdout",
       "text": [
        "\n"
       ]
      },
      {
       "output_type": "stream",
       "stream": "stdout",
       "text": [
        "Finished extracting features. Total time: 10.139 s, or 0.07983 s/image.\n",
        "Category: llama 79."
       ]
      },
      {
       "output_type": "stream",
       "stream": "stdout",
       "text": [
        "\n"
       ]
      },
      {
       "output_type": "stream",
       "stream": "stdout",
       "text": [
        "Finished extracting features. Total time: 8.677 s, or 0.10983 s/image.\n",
        "Category: mars 104."
       ]
      },
      {
       "output_type": "stream",
       "stream": "stdout",
       "text": [
        "\n"
       ]
      },
      {
       "output_type": "stream",
       "stream": "stdout",
       "text": [
        "Finished extracting features. Total time: 14.784 s, or 0.14215 s/image.\n",
        "Category: mussels 116."
       ]
      },
      {
       "output_type": "stream",
       "stream": "stdout",
       "text": [
        "\n"
       ]
      },
      {
       "output_type": "stream",
       "stream": "stdout",
       "text": [
        "Finished extracting features. Total time: 14.408 s, or 0.12421 s/image.\n",
        "Category: octopus 74."
       ]
      },
      {
       "output_type": "stream",
       "stream": "stdout",
       "text": [
        "\n"
       ]
      },
      {
       "output_type": "stream",
       "stream": "stdout",
       "text": [
        "Finished extracting features. Total time: 25.301 s, or 0.3419 s/image.\n",
        "Category: ostrich 73."
       ]
      },
      {
       "output_type": "stream",
       "stream": "stdout",
       "text": [
        "\n"
       ]
      },
      {
       "output_type": "stream",
       "stream": "stdout",
       "text": [
        "Finished extracting features. Total time: 12.137 s, or 0.16625 s/image.\n",
        "Category: owl 80."
       ]
      },
      {
       "output_type": "stream",
       "stream": "stdout",
       "text": [
        "\n"
       ]
      },
      {
       "output_type": "stream",
       "stream": "stdout",
       "text": [
        "Finished extracting features. Total time: 21.891 s, or 0.27364 s/image.\n",
        "Category: penguin 99."
       ]
      },
      {
       "output_type": "stream",
       "stream": "stdout",
       "text": [
        "\n"
       ]
      },
      {
       "output_type": "stream",
       "stream": "stdout",
       "text": [
        "Finished extracting features. Total time: 52.46 s, or 0.5299 s/image.\n",
        "Category: porcupine 67."
       ]
      },
      {
       "output_type": "stream",
       "stream": "stdout",
       "text": [
        "\n"
       ]
      },
      {
       "output_type": "stream",
       "stream": "stdout",
       "text": [
        "Finished extracting features. Total time: 15.012 s, or 0.22406 s/image.\n",
        "Category: raccoon 93."
       ]
      },
      {
       "output_type": "stream",
       "stream": "stdout",
       "text": [
        "\n"
       ]
      },
      {
       "output_type": "stream",
       "stream": "stdout",
       "text": [
        "Finished extracting features. Total time: 11.84 s, or 0.12731 s/image.\n",
        "Category: saturn 64."
       ]
      },
      {
       "output_type": "stream",
       "stream": "stdout",
       "text": [
        "\n"
       ]
      },
      {
       "output_type": "stream",
       "stream": "stdout",
       "text": [
        "Finished extracting features. Total time: 9.666 s, or 0.15103 s/image.\n",
        "Category: skunk 54."
       ]
      },
      {
       "output_type": "stream",
       "stream": "stdout",
       "text": [
        "\n"
       ]
      },
      {
       "output_type": "stream",
       "stream": "stdout",
       "text": [
        "Finished extracting features. Total time: 24.637 s, or 0.45623 s/image.\n",
        "Category: snail 79."
       ]
      },
      {
       "output_type": "stream",
       "stream": "stdout",
       "text": [
        "\n"
       ]
      },
      {
       "output_type": "stream",
       "stream": "stdout",
       "text": [
        "Finished extracting features. Total time: 31.697 s, or 0.40123 s/image.\n",
        "Category: snake 75."
       ]
      },
      {
       "output_type": "stream",
       "stream": "stdout",
       "text": [
        "\n"
       ]
      },
      {
       "output_type": "stream",
       "stream": "stdout",
       "text": [
        "Finished extracting features. Total time: 22.849 s, or 0.30465 s/image.\n",
        "Category: speed-boat 67."
       ]
      },
      {
       "output_type": "stream",
       "stream": "stdout",
       "text": [
        "\n"
       ]
      },
      {
       "output_type": "stream",
       "stream": "stdout",
       "text": [
        "Finished extracting features. Total time: 17.315 s, or 0.25843 s/image.\n",
        "Category: starfish 54."
       ]
      },
      {
       "output_type": "stream",
       "stream": "stdout",
       "text": [
        "\n"
       ]
      },
      {
       "output_type": "stream",
       "stream": "stdout",
       "text": [
        "Finished extracting features. Total time: 3.725 s, or 0.06898 s/image.\n",
        "Category: swan 77."
       ]
      },
      {
       "output_type": "stream",
       "stream": "stdout",
       "text": [
        "\n"
       ]
      },
      {
       "output_type": "stream",
       "stream": "stdout",
       "text": [
        "Finished extracting features. Total time: 27.189 s, or 0.3531 s/image.\n",
        "Category: teddy-bear 67."
       ]
      },
      {
       "output_type": "stream",
       "stream": "stdout",
       "text": [
        "\n"
       ]
      },
      {
       "output_type": "stream",
       "stream": "stdout",
       "text": [
        "Finished extracting features. Total time: 23.125 s, or 0.34515 s/image.\n",
        "Category: toad 72."
       ]
      },
      {
       "output_type": "stream",
       "stream": "stdout",
       "text": [
        "\n"
       ]
      },
      {
       "output_type": "stream",
       "stream": "stdout",
       "text": [
        "Finished extracting features. Total time: 31.535 s, or 0.43799 s/image.\n",
        "Category: triceratops 63."
       ]
      },
      {
       "output_type": "stream",
       "stream": "stdout",
       "text": [
        "\n"
       ]
      },
      {
       "output_type": "stream",
       "stream": "stdout",
       "text": [
        "Finished extracting features. Total time: 16.564 s, or 0.26292 s/image.\n",
        "Category: unicorn 65."
       ]
      },
      {
       "output_type": "stream",
       "stream": "stdout",
       "text": [
        "\n"
       ]
      },
      {
       "output_type": "stream",
       "stream": "stdout",
       "text": [
        "Finished extracting features. Total time: 12.615 s, or 0.19408 s/image.\n",
        "Category: zebra 64."
       ]
      },
      {
       "output_type": "stream",
       "stream": "stdout",
       "text": [
        "\n"
       ]
      },
      {
       "output_type": "stream",
       "stream": "stdout",
       "text": [
        "Finished extracting features. Total time: 22.812 s, or 0.35644 s/image.\n"
       ]
      }
     ],
     "prompt_number": 5
    },
    {
     "cell_type": "code",
     "collapsed": false,
     "input": [],
     "language": "python",
     "metadata": {},
     "outputs": [],
     "prompt_number": 61
    },
    {
     "cell_type": "code",
     "collapsed": false,
     "input": [
      "########### If Loading Pre-Extracted Features from CSV files #######################\n",
      "categories = os.listdir(MYDIRECTORY)\n",
      "categories.remove('.DS_Store')\n",
      "basicFeatures_df = pd.DataFrame()\n",
      "\n",
      "for category in categories:\n",
      "    basicFeatures_df = basicFeatures_df.append(pd.read_csv('%s.csv' %category, index_col=0))"
     ],
     "language": "python",
     "metadata": {},
     "outputs": [],
     "prompt_number": 6
    },
    {
     "cell_type": "code",
     "collapsed": false,
     "input": [
      "################ For extracting PCA Features ########################\n",
      "categories = os.listdir(MYDIRECTORY)\n",
      "categories.remove('.DS_Store')\n",
      "\n",
      "images =[]\n",
      "\n",
      "for i, cat in enumerate(categories):\n",
      "    images.extend([MYDIRECTORY + '/' + cat + '/'+ f for f in os.listdir(MYDIRECTORY + '/' + str(cat))])\n",
      "\n",
      "#Run PCA extraction on images and return pcaModel from training set as well as the dictionary\n",
      "#of PCA features saves a pickled version of the PCA model as 'PCA_Features_Model.p'\n",
      "pcaModel, PCA_Dict = extract_PCA_features(images)"
     ],
     "language": "python",
     "metadata": {},
     "outputs": [
      {
       "output_type": "stream",
       "stream": "stdout",
       "text": [
        "(4210, 15)\n"
       ]
      }
     ],
     "prompt_number": 7
    },
    {
     "cell_type": "code",
     "collapsed": false,
     "input": [
      "############# Concatenate features from PCA Analysis and Basic Features ################\n",
      "pcaFeatures_df = pd.DataFrame.from_dict(PCA_Dict, orient='index')\n",
      "features_df = pd.merge(basicFeatures_df, pcaFeatures_df, how='outer', left_index=True, right_index=True)\n",
      "\n",
      "########### Drop nan values from model ##########\n",
      "#features_df =features_df.dropna()"
     ],
     "language": "python",
     "metadata": {},
     "outputs": [],
     "prompt_number": 8
    },
    {
     "cell_type": "code",
     "collapsed": false,
     "input": [
      "###Save All features of training data to csv\n",
      "features_df.to_csv('Extracted_Features_100113.csv')\n"
     ],
     "language": "python",
     "metadata": {},
     "outputs": [],
     "prompt_number": 9
    },
    {
     "cell_type": "heading",
     "level": 1,
     "metadata": {},
     "source": [
      "ADAM RUN --> Helper functions for final classification"
     ]
    },
    {
     "cell_type": "code",
     "collapsed": false,
     "input": [
      "def get_ACC(fid, pred):\n",
      "    '''\n",
      "    returns list of incorrect vs. correct responses from file id to prediction\n",
      "    '''\n",
      "    acc = []\n",
      "    for i, (fid, pred) in enumerate(zip(fid, pred)):\n",
      "        if pred in fid: \n",
      "            acc.append('Correct')\n",
      "        else:\n",
      "            acc.append('---')\n",
      "    return acc\n",
      "\n",
      "def setTarget(stringArray):\n",
      "    '''\n",
      "    returns an array of numbers specifying a given category\n",
      "    input -- stringArray is a list of the current category options\n",
      "    output -- integer array the same length of string array with each number representing a given element of the string array\n",
      "    '''\n",
      "    uniqueList = np.unique(stringArray)\n",
      "    target = np.zeros(np.shape(stringArray))\n",
      "    for i, s in enumerate(stringArray):\n",
      "        target[i] = np.argwhere(uniqueList==s)\n",
      "    return target\n",
      "\n",
      "def retNames(catInd, stringArray=[], path = MYDIRECTORY):\n",
      "    '''\n",
      "    returns a string array of category names based on array of numbers specifying the category\n",
      "    '''\n",
      "    if stringArray == []:\n",
      "        stringArray = os.listdir(MYDIRECTORY)\n",
      "        stringArray.remove('.DS_Store') \n",
      "        stringArray = np.array(stringArray)        \n",
      "    \n",
      "    uniqueList = np.unique(stringArray)\n",
      "    nameList =[]\n",
      "    for i, s in enumerate(catInd):\n",
      "        nameList.append(uniqueList[s])\n",
      "    return nameList\n",
      "\n",
      "#### Printing/Scoring Functions ####\n",
      "def print_PredvsOutcome(names, y_pred, correct=[]):\n",
      "    if correct != []:\n",
      "        template = \"{0:30}{1:20}{2:20}\" # column widths\n",
      "        print template.format(\"Filename\", \"Predicted_Class\", \"Correct?\") # header\n",
      "        print '-'*100\n",
      "        for rec in zip(names, y_pred, correct):\n",
      "            print template.format(*rec)\n",
      "    else:\n",
      "        template = \"{0:30}{1:20}\" # column widths\n",
      "        print template.format(\"Filename\", \"Predicted_Class\") # header\n",
      "        print '-'*100\n",
      "        for rec in zip(names, y_pred):\n",
      "            print template.format(*rec)\n",
      "\n",
      "def print_cv_score_summary(model, xx, yy, cv):\n",
      "    scores = cross_val_score(model, xx, yy, cv=cv, n_jobs=1)\n",
      "    print(\"\\nmean Accuracy: {:3f}, stdev: {:3f}\\n\".format(\n",
      "        np.mean(scores), np.std(scores)))"
     ],
     "language": "python",
     "metadata": {},
     "outputs": [],
     "prompt_number": 10
    },
    {
     "cell_type": "heading",
     "level": 1,
     "metadata": {},
     "source": [
      "ADAM RUN --> Generate Classifier Model"
     ]
    },
    {
     "cell_type": "code",
     "collapsed": false,
     "input": [
      "### Load All extracted features from file should have 169 Columns and 4308 entries\n",
      "features_df = pd.read_csv('Extracted_Features_100113.csv', index_col=0)\n",
      "\n",
      "##drop NaN values\n",
      "features_df = features_df.dropna()\n",
      "#specify which features to use in model\n",
      "useCats = [value for value in features_df.columns if value not in ['cat', 'hyperCat']] \n",
      "\n",
      "#wantedFeaturesSeg = ['fft', 'PCA']\n",
      "#useCats = []\n",
      "#for feature in wantedFeaturesSeg:\n",
      "#    useCats.extend([value for value in features_df.columns if feature in value])\n",
      "#    useCats = pd.Index([value for value in features_df.columns if feature in value for feature in )\n",
      "\n",
      "\n",
      "X = features_df[useCats].values            #matrix of feature data\n",
      "Y = setTarget(features_df['cat'].values)   #array of category targets as numbers\n",
      "\n",
      "X_scaled = preprocessing.scale(X)          #scale X data\n",
      "\n",
      "cut = np.floor(len(Y)*.9)                  #specify portion for train and test\n",
      "indexes = np.arange(len(X))                 \n",
      "np.random.shuffle(indexes)\n",
      "\n",
      "#partition data into train and test subsections\n",
      "train_X = X_scaled[indexes[:cut]]\n",
      "train_Y = Y[indexes[:cut]]\n",
      "train_Y_fid = features_df.index[indexes[:cut]]\n",
      "test_X = X_scaled[indexes[cut:]]\n",
      "test_Y = Y[indexes[cut:]]\n",
      "test_Y_fid = features_df.index[indexes[cut:]]\n",
      "\n",
      "#generate RandomForestClassifer based on Class specifications\n",
      "clf = RandomForestClassifier(n_jobs=-1, n_estimators = 50, compute_importances = True) #create random forest model\n",
      "clf.fit(train_X, train_Y)              #train model\n",
      "preds = clf.predict(test_X)            #use model to predict test_Y from test_X\n",
      "\n",
      "###Print Top 3 important Features\n",
      "sortedFeatNames = [x for (y,x) in sorted(zip(clf.feature_importances_,useCats))]\n",
      "sortedFeatCont = np.sort(clf.feature_importances_)\n",
      "print '##### Important Feature Contribution #####'\n",
      "template = '{0:20}{1:10}'\n",
      "for fn, fc in zip(sortedFeatNames[-3:], sortedFeatCont[-3:]):\n",
      "    print template.format(*(fn, fc))\n",
      "print '#'*42\n",
      "\n",
      "acc = get_ACC(test_Y_fid, retNames(preds, features_df['cat'].values))\n",
      "#print(np.vstack((test_Y, preds)))      #show classifications\n",
      "\n",
      "#cross validation using whole data set\n",
      "#print_cv_score_summary(clf,X,Y,cv=cross_validation.KFold(len(Y), 20))\n",
      "\n",
      "random_Y = np.random.random_integers(0, 49, size=len(preds))\n",
      "\n",
      "# compute zero-one loss / score & confusion matrix for model\n",
      "from sklearn import metrics\n",
      "rmc_01 = metrics.zero_one_loss(test_Y, preds) # zero-one loss\n",
      "rmc_01_score = metrics.accuracy_score(test_Y, preds) # zero-one score\n",
      "rmc_confmat = metrics.confusion_matrix(test_Y, preds) # conf mat\n",
      "mse = metrics.mean_squared_error(test_Y,preds) \n",
      "randGuess = metrics.accuracy_score(test_Y, random_Y)\n",
      "\n",
      "#Cross Validation Results \n",
      "print \"Cross Validated Restults\"\n",
      "print_cv_score_summary(clf,X,Y, cv=cross_validation.KFold(len(Y),20,shuffle=True,random_state=1))\n",
      "print '#'*42\n",
      "print(\"Non Cross Validated Restults\")\n",
      "print(\"MSE: \" +str(mse))\n",
      "print(\"Zero-One Loss: \" + str(rmc_01))\n",
      "print(\"Zero-One Score: \" + str(rmc_01_score))\n",
      "\n",
      "print(\"Accuracy for random guesses:\" + str(randGuess), '/n')\n",
      "print '#'*42\n",
      "print_PredvsOutcome(test_Y_fid, retNames(preds, features_df['cat'].values), acc)\n"
     ],
     "language": "python",
     "metadata": {},
     "outputs": [
      {
       "output_type": "stream",
       "stream": "stderr",
       "text": [
        "/Applications/anaconda/python.app/Contents/lib/python2.7/site-packages/sklearn/ensemble/forest.py:783: DeprecationWarning: Setting compute_importances is no longer required as version 0.14. Variable importances are now computed on the fly when accessing the feature_importances_ attribute. This parameter will be removed in 0.16.\n",
        "  DeprecationWarning)\n"
       ]
      },
      {
       "output_type": "stream",
       "stream": "stdout",
       "text": [
        "##### Important Feature Contribution #####\n",
        "vEdge_to_Total_0.1  0.0139290201086\n",
        "segIm_3_1_fft_relMag0.0156756382755\n",
        "hEdge_to_vEdge_0.1  0.0181103540551\n",
        "##########################################\n",
        "Cross Validated Restults\n"
       ]
      },
      {
       "output_type": "stream",
       "stream": "stdout",
       "text": [
        "\n",
        "mean Accuracy: 0.300842, stdev: 0.021822\n",
        "\n",
        "##########################################\n",
        "Non Cross Validated Restults\n",
        "MSE: 232.507142857\n",
        "Zero-One Loss: 0.695238095238\n",
        "Zero-One Score: 0.304761904762\n",
        "('Accuracy for random guesses:0.0142857142857', '\\n')\n",
        "##########################################\n",
        "Filename                      Predicted_Class     Correct?            \n",
        "----------------------------------------------------------------------------------------------------\n",
        "goldfish_0036.jpg             horse               ---                 \n",
        "airplanes_0286.jpg            airplanes           Correct             \n",
        "skunk_0042.jpg                horse               ---                 \n",
        "killer-whale_0044.jpg         killer-whale        Correct             \n",
        "helicopter_0054.jpg           cormorant           ---                 \n",
        "llama_0032.jpg                horse               ---                 \n",
        "airplanes_0106.jpg            airplanes           Correct             \n",
        "airplanes_0054.jpg            helicopter          ---                 \n",
        "kangaroo_0030.jpg             horse               ---                 \n",
        "owl_0031.jpg                  raccoon             ---                 \n",
        "leopards_0080.jpg             leopards            Correct             \n",
        "octopus_0003.jpg              dolphin             ---                 \n",
        "mussels_0105.jpg              airplanes           ---                 \n",
        "mars_0074.jpg                 mars                Correct             \n",
        "llama_0061.jpg                kangaroo            ---                 \n",
        "crab_0037.jpg                 horse               ---                 \n",
        "goldfish_0029.jpg             gorilla             ---                 \n",
        "raccoon_0012.jpg              horse               ---                 \n",
        "llama_0037.jpg                toad                ---                 \n",
        "skunk_0043.jpg                mussels             ---                 \n",
        "penguin_0025.jpg              unicorn             ---                 \n",
        "elk_0049.jpg                  horse               ---                 \n",
        "goose_0006.jpg                bear                ---                 \n",
        "giraffe_0021.jpg              camel               ---                 \n",
        "horse_0136.jpg                elephant            ---                 \n",
        "helicopter_0017.jpg           crab                ---                 \n",
        "dolphin_0007.jpg              dolphin             Correct             \n",
        "frog_0016.jpg                 killer-whale        ---                 \n",
        "hummingbird_0003.jpg          frog                ---                 \n",
        "gorilla_0021.jpg              mussels             ---                 \n",
        "airplanes_0357.jpg            airplanes           Correct             \n",
        "penguin_0077.jpg              gorilla             ---                 \n",
        "dog_0028.jpg                  blimp               ---                 \n",
        "snail_0067.jpg                raccoon             ---                 \n",
        "airplanes_0382.jpg            airplanes           Correct             \n",
        "duck_0041.jpg                 airplanes           ---                 \n",
        "speed-boat_0046.jpg           horse               ---                 \n",
        "kangaroo_0035.jpg             gorilla             ---                 \n",
        "starfish_0043.jpg             starfish            Correct             \n",
        "skunk_0034.jpg                llama               ---                 \n",
        "dog_0023.jpg                  swan                ---                 \n",
        "porcupine_0065.jpg            leopards            ---                 \n",
        "iguana_0056.jpg               iguana              Correct             \n",
        "giraffe_0056.jpg              horse               ---                 \n",
        "mars_0069.jpg                 mars                Correct             \n",
        "penguin_0096.jpg              penguin             Correct             \n",
        "triceratops_0058.jpg          triceratops         Correct             \n",
        "gorilla_0093.jpg              gorilla             Correct             \n",
        "blimp_0007.jpg                helicopter          ---                 \n",
        "goose_0031.jpg                horse               ---                 \n",
        "goat_0042.jpg                 bat                 ---                 \n",
        "airplanes_0453.jpg            airplanes           Correct             \n",
        "comet_0037.jpg                comet               Correct             \n",
        "frog_0009.jpg                 frog                Correct             \n",
        "goldfish_0057.jpg             conch               ---                 \n",
        "mussels_0014.jpg              starfish            ---                 \n",
        "mussels_0051.jpg              mussels             Correct             \n",
        "airplanes_0419.jpg            airplanes           Correct             \n",
        "airplanes_0303.jpg            airplanes           Correct             \n",
        "mussels_0027.jpg              mussels             Correct             \n",
        "triceratops_0015.jpg          horse               ---                 \n",
        "mars_0006.jpg                 mars                Correct             \n",
        "airplanes_0344.jpg            airplanes           Correct             \n",
        "horse_0017.jpg                camel               ---                 \n",
        "porcupine_0003.jpg            triceratops         ---                 \n",
        "airplanes_0295.jpg            airplanes           Correct             \n",
        "giraffe_0033.jpg              blimp               ---                 \n",
        "hummingbird_0066.jpg          goat                ---                 \n",
        "horse_0045.jpg                horse               Correct             \n",
        "speed-boat_0009.jpg           penguin             ---                 \n",
        "speed-boat_0008.jpg           swan                ---                 \n",
        "conch_0049.jpg                snail               ---                 \n",
        "raccoon_0087.jpg              owl                 ---                 \n",
        "leopards_0002.jpg             leopards            Correct             \n",
        "bear_0023.jpg                 gorilla             ---                 \n",
        "galaxy_0051.jpg               mars                ---                 \n",
        "comet_0043.jpg                camel               ---                 \n",
        "teddy-bear_0043.jpg           mussels             ---                 \n",
        "snail_0036.jpg                penguin             ---                 \n",
        "snail_0027.jpg                snail               Correct             \n",
        "starfish_0029.jpg             starfish            Correct             \n",
        "horse_0062.jpg                mussels             ---                 \n",
        "triceratops_0007.jpg          zebra               ---                 \n",
        "comet_0027.jpg                galaxy              ---                 \n",
        "goose_0056.jpg                goose               Correct             \n",
        "airplanes_0055.jpg            airplanes           Correct             \n",
        "conch_0056.jpg                unicorn             ---                 \n",
        "camel_0053.jpg                gorilla             ---                 \n",
        "airplanes_0041.jpg            airplanes           Correct             \n",
        "frog_0067.jpg                 killer-whale        ---                 \n",
        "saturn_0033.jpg               bat                 ---                 \n",
        "owl_0002.jpg                  mars                ---                 \n",
        "duck_0016.jpg                 raccoon             ---                 \n",
        "airplanes_0362.jpg            airplanes           Correct             \n",
        "frog_0060.jpg                 snail               ---                 \n",
        "bear_0054.jpg                 hummingbird         ---                 \n",
        "swan_0006.jpg                 speed-boat          ---                 \n",
        "mussels_0013.jpg              unicorn             ---                 \n",
        "hummingbird_0024.jpg          frog                ---                 \n",
        "cormorant_0064.jpg            bat                 ---                 \n",
        "saturn_0019.jpg               mars                ---                 \n",
        "ostrich_0039.jpg              airplanes           ---                 \n",
        "gorilla_0095.jpg              gorilla             Correct             \n",
        "zebra_0058.jpg                zebra               Correct             \n",
        "dog_0006.jpg                  horse               ---                 \n",
        "airplanes_0185.jpg            airplanes           Correct             \n",
        "penguin_0052.jpg              elephant            ---                 \n",
        "goat_0021.jpg                 toad                ---                 \n",
        "leopards_0081.jpg             leopards            Correct             \n",
        "mussels_0075.jpg              goat                ---                 \n",
        "horse_0093.jpg                elephant            ---                 \n",
        "bat_0039.jpg                  dog                 ---                 \n",
        "bear_0002.jpg                 mussels             ---                 \n",
        "zebra_0025.jpg                zebra               Correct             \n",
        "swan_0014.jpg                 gorilla             ---                 \n",
        "airplanes_0201.jpg            airplanes           Correct             \n",
        "zebra_0056.jpg                horse               ---                 \n",
        "airplanes_0086.jpg            airplanes           Correct             \n",
        "elk_0058.jpg                  leopards            ---                 \n",
        "hot-air-balloon_0033.jpg      airplanes           ---                 \n",
        "owl_0067.jpg                  horse               ---                 \n",
        "saturn_0053.jpg               mars                ---                 \n",
        "porcupine_0026.jpg            cormorant           ---                 \n",
        "killer-whale_0003.jpg         swan                ---                 \n",
        "kangaroo_0010.jpg             llama               ---                 \n",
        "kangaroo_0005.jpg             horse               ---                 \n",
        "airplanes_0207.jpg            airplanes           Correct             \n",
        "snail_0065.jpg                conch               ---                 \n",
        "airplanes_0517.jpg            airplanes           Correct             \n",
        "starfish_0036.jpg             dog                 ---                 \n",
        "speed-boat_0061.jpg           elephant            ---                 \n",
        "skunk_0041.jpg                saturn              ---                 \n",
        "airplanes_0435.jpg            airplanes           Correct             \n",
        "goose_0052.jpg                frog                ---                 \n",
        "iguana_0047.jpg               airplanes           ---                 \n",
        "toad_0069.jpg                 horse               ---                 \n",
        "porcupine_0029.jpg            owl                 ---                 \n",
        "unicorn_0054.jpg              goat                ---                 \n",
        "leopards_0095.jpg             leopards            Correct             \n",
        "snail_0078.jpg                frog                ---                 \n",
        "killer-whale_0011.jpg         blimp               ---                 \n",
        "speed-boat_0058.jpg           airplanes           ---                 \n",
        "frog_0021.jpg                 llama               ---                 \n",
        "unicorn_0001.jpg              unicorn             Correct             \n",
        "elephant_0074.jpg             dolphin             ---                 \n",
        "hummingbird_0064.jpg          galaxy              ---                 \n",
        "hummingbird_0005.jpg          penguin             ---                 \n",
        "iguana_0018.jpg               gorilla             ---                 \n",
        "killer-whale_0024.jpg         cormorant           ---                 \n",
        "bear_0055.jpg                 toad                ---                 \n",
        "raccoon_0030.jpg              mussels             ---                 \n",
        "octopus_0059.jpg              conch               ---                 \n",
        "skunk_0025.jpg                elk                 ---                 \n",
        "triceratops_0062.jpg          horse               ---                 \n",
        "swan_0068.jpg                 airplanes           ---                 \n",
        "bat_0035.jpg                  bat                 Correct             \n",
        "bear_0040.jpg                 gorilla             ---                 \n",
        "snake_0035.jpg                gorilla             ---                 \n",
        "hummingbird_0077.jpg          cormorant           ---                 \n",
        "snail_0038.jpg                toad                ---                 \n",
        "airplanes_0306.jpg            airplanes           Correct             \n",
        "giraffe_0040.jpg              horse               ---                 \n",
        "airplanes_0071.jpg            airplanes           Correct             \n",
        "unicorn_0025.jpg              killer-whale        ---                 \n",
        "iguana_0066.jpg               iguana              Correct             \n",
        "goose_0015.jpg                frog                ---                 \n",
        "camel_0036.jpg                owl                 ---                 \n",
        "airplanes_0090.jpg            airplanes           Correct             \n",
        "airplanes_0519.jpg            airplanes           Correct             \n",
        "toad_0063.jpg                 airplanes           ---                 \n",
        "snail_0019.jpg                mussels             ---                 \n",
        "penguin_0039.jpg              snake               ---                 \n",
        "airplanes_0381.jpg            airplanes           Correct             \n",
        "swan_0051.jpg                 swan                Correct             \n",
        "galaxy_0024.jpg               penguin             ---                 \n",
        "crab_0047.jpg                 bat                 ---                 \n",
        "giraffe_0030.jpg              llama               ---                 \n",
        "airplanes_0162.jpg            airplanes           Correct             \n",
        "kangaroo_0029.jpg             horse               ---                 \n",
        "dolphin_0024.jpg              airplanes           ---                 \n",
        "airplanes_0030.jpg            airplanes           Correct             \n",
        "dog_0038.jpg                  conch               ---                 \n",
        "leopards_0044.jpg             leopards            Correct             \n",
        "blimp_0036.jpg                gorilla             ---                 \n",
        "galaxy_0037.jpg               comet               ---                 \n",
        "helicopter_0002.jpg           killer-whale        ---                 \n",
        "zebra_0008.jpg                gorilla             ---                 \n",
        "gorilla_0016.jpg              mussels             ---                 \n",
        "goat_0033.jpg                 gorilla             ---                 \n",
        "crab_0035.jpg                 starfish            ---                 \n",
        "airplanes_0194.jpg            airplanes           Correct             \n",
        "elephant_0056.jpg             bear                ---                 \n",
        "penguin_0007.jpg              killer-whale        ---                 \n",
        "goldfish_0005.jpg             dog                 ---                 \n",
        "camel_0069.jpg                airplanes           ---                 \n",
        "penguin_0085.jpg              llama               ---                 \n",
        "cormorant_0030.jpg            killer-whale        ---                 \n",
        "teddy-bear_0013.jpg           mars                ---                 \n",
        "horse_0069.jpg                horse               Correct             \n",
        "airplanes_0104.jpg            helicopter          ---                 \n",
        "goat_0066.jpg                 horse               ---                 \n",
        "airplanes_0417.jpg            airplanes           Correct             \n",
        "mars_0017.jpg                 mars                Correct             \n",
        "helicopter_0029.jpg           helicopter          Correct             \n",
        "elephant_0020.jpg             mussels             ---                 \n",
        "unicorn_0041.jpg              conch               ---                 \n",
        "goldfish_0051.jpg             airplanes           ---                 \n",
        "airplanes_0228.jpg            airplanes           Correct             \n",
        "goldfish_0028.jpg             camel               ---                 \n",
        "horse_0153.jpg                horse               Correct             \n",
        "mussels_0055.jpg              bat                 ---                 \n",
        "iguana_0042.jpg               horse               ---                 \n",
        "llama_0077.jpg                horse               ---                 \n",
        "swan_0005.jpg                 killer-whale        ---                 \n",
        "starfish_0005.jpg             mussels             ---                 \n",
        "gorilla_0036.jpg              gorilla             Correct             \n",
        "horse_0103.jpg                cormorant           ---                 \n",
        "conch_0009.jpg                airplanes           ---                 \n",
        "duck_0051.jpg                 gorilla             ---                 \n",
        "hot-air-balloon_0010.jpg      horse               ---                 \n",
        "zebra_0013.jpg                zebra               Correct             \n",
        "snake_0005.jpg                owl                 ---                 \n",
        "raccoon_0061.jpg              horse               ---                 \n",
        "airplanes_0049.jpg            blimp               ---                 \n",
        "leopards_0037.jpg             leopards            Correct             \n",
        "ostrich_0048.jpg              horse               ---                 \n",
        "hot-air-balloon_0040.jpg      hot-air-balloon     Correct             \n",
        "horse_0172.jpg                ostrich             ---                 \n",
        "porcupine_0066.jpg            zebra               ---                 \n",
        "blimp_0005.jpg                blimp               Correct             \n",
        "octopus_0002.jpg              gorilla             ---                 \n",
        "goat_0071.jpg                 elk                 ---                 \n",
        "snake_0070.jpg                mars                ---                 \n",
        "airplanes_0136.jpg            airplanes           Correct             \n",
        "duck_0055.jpg                 comet               ---                 \n",
        "ostrich_0049.jpg              crab                ---                 \n",
        "unicorn_0061.jpg              unicorn             Correct             \n",
        "airplanes_0309.jpg            airplanes           Correct             \n",
        "frog_0050.jpg                 leopards            ---                 \n",
        "airplanes_0440.jpg            airplanes           Correct             \n",
        "unicorn_0002.jpg              conch               ---                 \n",
        "skunk_0035.jpg                gorilla             ---                 \n",
        "owl_0012.jpg                  snail               ---                 \n",
        "hummingbird_0037.jpg          hummingbird         Correct             \n",
        "comet_0016.jpg                comet               Correct             \n",
        "hot-air-balloon_0031.jpg      camel               ---                 \n",
        "bear_0013.jpg                 gorilla             ---                 \n",
        "triceratops_0048.jpg          elephant            ---                 \n",
        "bear_0039.jpg                 octopus             ---                 \n",
        "horse_0132.jpg                horse               Correct             \n",
        "zebra_0044.jpg                gorilla             ---                 \n",
        "horse_0088.jpg                duck                ---                 \n",
        "ostrich_0042.jpg              horse               ---                 \n",
        "dolphin_0052.jpg              dolphin             Correct             \n",
        "raccoon_0029.jpg              zebra               ---                 \n",
        "elephant_0076.jpg             horse               ---                 \n",
        "octopus_0068.jpg              bear                ---                 \n",
        "giraffe_0005.jpg              gorilla             ---                 \n",
        "airplanes_0052.jpg            airplanes           Correct             \n",
        "airplanes_0154.jpg            airplanes           Correct             \n",
        "owl_0047.jpg                  comet               ---                 \n",
        "conch_0002.jpg                horse               ---                 \n",
        "horse_0133.jpg                horse               Correct             \n",
        "octopus_0055.jpg              penguin             ---                 \n",
        "triceratops_0017.jpg          triceratops         Correct             \n",
        "elephant_0044.jpg             gorilla             ---                 \n",
        "horse_0039.jpg                horse               Correct             \n",
        "airplanes_0159.jpg            cormorant           ---                 \n",
        "dolphin_0011.jpg              dolphin             Correct             \n",
        "leopards_0060.jpg             leopards            Correct             \n",
        "goose_0020.jpg                swan                ---                 \n",
        "octopus_0049.jpg              penguin             ---                 \n",
        "elephant_0060.jpg             bat                 ---                 \n",
        "speed-boat_0014.jpg           airplanes           ---                 \n",
        "airplanes_0146.jpg            airplanes           Correct             \n",
        "horse_0001.jpg                horse               Correct             \n",
        "leopards_0006.jpg             leopards            Correct             \n",
        "horse_0064.jpg                porcupine           ---                 \n",
        "cormorant_0056.jpg            frog                ---                 \n",
        "horse_0026.jpg                elephant            ---                 \n",
        "airplanes_0126.jpg            airplanes           Correct             \n",
        "saturn_0050.jpg               mars                ---                 \n",
        "elephant_0024.jpg             gorilla             ---                 \n",
        "gorilla_0040.jpg              gorilla             Correct             \n",
        "airplanes_0025.jpg            airplanes           Correct             \n",
        "goat_0067.jpg                 llama               ---                 \n",
        "helicopter_0015.jpg           airplanes           ---                 \n",
        "blimp_0026.jpg                horse               ---                 \n",
        "elephant_0008.jpg             llama               ---                 \n",
        "airplanes_0094.jpg            airplanes           Correct             \n",
        "crab_0010.jpg                 airplanes           ---                 \n",
        "frog_0007.jpg                 frog                Correct             \n",
        "killer-whale_0056.jpg         mussels             ---                 \n",
        "gorilla_0077.jpg              owl                 ---                 \n",
        "porcupine_0051.jpg            gorilla             ---                 \n",
        "duck_0050.jpg                 bear                ---                 \n",
        "airplanes_0333.jpg            airplanes           Correct             \n",
        "galaxy_0036.jpg               comet               ---                 \n",
        "elk_0057.jpg                  giraffe             ---                 \n",
        "airplanes_0072.jpg            helicopter          ---                 \n",
        "porcupine_0009.jpg            dog                 ---                 \n",
        "giraffe_0038.jpg              mussels             ---                 \n",
        "comet_0020.jpg                comet               Correct             \n",
        "cormorant_0050.jpg            hummingbird         ---                 \n",
        "leopards_0054.jpg             leopards            Correct             \n",
        "airplanes_0066.jpg            airplanes           Correct             \n",
        "toad_0012.jpg                 frog                ---                 \n",
        "elephant_0002.jpg             owl                 ---                 \n",
        "goldfish_0015.jpg             octopus             ---                 \n",
        "bear_0062.jpg                 bat                 ---                 \n",
        "cormorant_0009.jpg            triceratops         ---                 \n",
        "duck_0002.jpg                 horse               ---                 \n",
        "frog_0075.jpg                 toad                ---                 \n",
        "owl_0039.jpg                  crab                ---                 \n",
        "kangaroo_0047.jpg             snake               ---                 \n",
        "airplanes_0234.jpg            airplanes           Correct             \n",
        "dog_0025.jpg                  horse               ---                 \n",
        "snake_0061.jpg                galaxy              ---                 \n",
        "goat_0040.jpg                 horse               ---                 \n",
        "crab_0014.jpg                 horse               ---                 \n",
        "airplanes_0366.jpg            airplanes           Correct             \n",
        "kangaroo_0002.jpg             zebra               ---                 \n",
        "dolphin_0015.jpg              airplanes           ---                 \n",
        "raccoon_0013.jpg              penguin             ---                 \n",
        "airplanes_0418.jpg            airplanes           Correct             \n",
        "airplanes_0495.jpg            airplanes           Correct             \n",
        "crab_0049.jpg                 goldfish            ---                 \n",
        "airplanes_0385.jpg            airplanes           Correct             \n",
        "elephant_0077.jpg             horse               ---                 \n",
        "conch_0031.jpg                bat                 ---                 \n",
        "toad_0054.jpg                 horse               ---                 \n",
        "helicopter_0009.jpg           airplanes           ---                 \n",
        "horse_0053.jpg                horse               Correct             \n",
        "porcupine_0020.jpg            snake               ---                 \n",
        "llama_0013.jpg                horse               ---                 \n",
        "porcupine_0002.jpg            porcupine           Correct             \n",
        "snail_0008.jpg                goldfish            ---                 \n",
        "conch_0022.jpg                mars                ---                 \n",
        "blimp_0008.jpg                killer-whale        ---                 \n",
        "airplanes_0486.jpg            airplanes           Correct             \n",
        "iguana_0011.jpg               owl                 ---                 \n",
        "airplanes_0263.jpg            killer-whale        ---                 \n",
        "crab_0032.jpg                 horse               ---                 \n",
        "raccoon_0024.jpg              horse               ---                 \n",
        "mussels_0035.jpg              mussels             Correct             \n",
        "leopards_0061.jpg             leopards            Correct             \n",
        "mars_0007.jpg                 mars                Correct             \n",
        "dolphin_0046.jpg              airplanes           ---                 \n",
        "snake_0057.jpg                snake               Correct             \n",
        "comet_0077.jpg                mars                ---                 \n",
        "teddy-bear_0002.jpg           triceratops         ---                 \n",
        "crab_0046.jpg                 bat                 ---                 \n",
        "airplanes_0365.jpg            airplanes           Correct             \n",
        "gorilla_0059.jpg              gorilla             Correct             \n",
        "goose_0016.jpg                killer-whale        ---                 \n",
        "frog_0005.jpg                 penguin             ---                 \n",
        "skunk_0022.jpg                skunk               Correct             \n",
        "elk_0045.jpg                  horse               ---                 \n",
        "llama_0048.jpg                horse               ---                 \n",
        "airplanes_0121.jpg            airplanes           Correct             \n",
        "teddy-bear_0066.jpg           starfish            ---                 \n",
        "cormorant_0022.jpg            mussels             ---                 \n",
        "swan_0048.jpg                 killer-whale        ---                 \n",
        "swan_0027.jpg                 horse               ---                 \n",
        "porcupine_0032.jpg            horse               ---                 \n",
        "airplanes_0213.jpg            airplanes           Correct             \n",
        "goldfish_0006.jpg             conch               ---                 \n",
        "airplanes_0300.jpg            airplanes           Correct             \n",
        "porcupine_0030.jpg            zebra               ---                 \n",
        "iguana_0016.jpg               ostrich             ---                 \n",
        "airplanes_0304.jpg            airplanes           Correct             \n",
        "horse_0014.jpg                horse               Correct             \n",
        "mussels_0074.jpg              dog                 ---                 \n",
        "snake_0037.jpg                camel               ---                 \n",
        "airplanes_0044.jpg            airplanes           Correct             \n",
        "raccoon_0048.jpg              octopus             ---                 \n",
        "bear_0043.jpg                 horse               ---                 \n",
        "mars_0038.jpg                 conch               ---                 \n",
        "airplanes_0272.jpg            airplanes           Correct             \n",
        "hot-air-balloon_0034.jpg      goat                ---                 \n",
        "iguana_0053.jpg               swan                ---                 \n",
        "goat_0012.jpg                 elephant            ---                 \n",
        "teddy-bear_0028.jpg           horse               ---                 \n",
        "airplanes_0232.jpg            airplanes           Correct             \n",
        "goat_0002.jpg                 goose               ---                 \n",
        "penguin_0065.jpg              airplanes           ---                 \n",
        "dog_0015.jpg                  horse               ---                 \n",
        "iguana_0037.jpg               gorilla             ---                 \n",
        "iguana_0029.jpg               mussels             ---                 \n",
        "killer-whale_0060.jpg         killer-whale        Correct             \n",
        "llama_0065.jpg                llama               Correct             \n",
        "airplanes_0408.jpg            airplanes           Correct             \n",
        "iguana_0024.jpg               raccoon             ---                 \n",
        "elephant_0085.jpg             elephant            Correct             \n",
        "helicopter_0055.jpg           helicopter          Correct             \n",
        "penguin_0057.jpg              hummingbird         ---                 \n",
        "elephant_0087.jpg             horse               ---                 \n",
        "snake_0008.jpg                starfish            ---                 \n",
        "bear_0038.jpg                 raccoon             ---                 \n",
        "hummingbird_0004.jpg          frog                ---                 \n",
        "iguana_0023.jpg               horse               ---                 \n",
        "giraffe_0034.jpg              owl                 ---                 \n",
        "airplanes_0216.jpg            airplanes           Correct             \n",
        "elephant_0083.jpg             elephant            Correct             \n",
        "snail_0026.jpg                airplanes           ---                 \n",
        "goose_0003.jpg                dog                 ---                 \n",
        "conch_0001.jpg                triceratops         ---                 \n",
        "mars_0100.jpg                 leopards            ---                 \n",
        "bear_0021.jpg                 airplanes           ---                 \n",
        "airplanes_0269.jpg            airplanes           Correct             \n",
        "elk_0026.jpg                  llama               ---                 \n",
        "airplanes_0339.jpg            airplanes           Correct             \n",
        "horse_0144.jpg                elephant            ---                 \n",
        "duck_0037.jpg                 snake               ---                 \n",
        "octopus_0027.jpg              teddy-bear          ---                 \n",
        "gorilla_0141.jpg              galaxy              ---                 \n",
        "penguin_0059.jpg              penguin             Correct             \n",
        "zebra_0048.jpg                zebra               Correct             \n",
        "skunk_0005.jpg                swan                ---                 \n",
        "goldfish_0020.jpg             swan                ---                 \n"
       ]
      }
     ],
     "prompt_number": 11
    },
    {
     "cell_type": "code",
     "collapsed": false,
     "input": [],
     "language": "python",
     "metadata": {},
     "outputs": [],
     "prompt_number": 82
    },
    {
     "cell_type": "code",
     "collapsed": false,
     "input": [
      "#### Pickle Random Forest Model ######\n",
      "pickle.dump(clf, open('trained_classifier.pickle','w'))"
     ],
     "language": "python",
     "metadata": {},
     "outputs": [],
     "prompt_number": 134
    },
    {
     "cell_type": "code",
     "collapsed": false,
     "input": [
      "### If interested in listing Full features from least to greatest importance #####\n",
      "template = '{0:40}{1:10}'\n",
      "for fn, fc in zip(sortedFeatNames, sortedFeatCont):\n",
      "    print template.format(*(fn, fc))\n",
      "print '#'*42"
     ],
     "language": "python",
     "metadata": {},
     "outputs": [
      {
       "output_type": "stream",
       "stream": "stdout",
       "text": [
        "wholeIm_color_red                       0.00441505068133\n",
        "LToptoLBot_cSym_Blue                    0.00451207549341\n",
        "segIm_0_2_color_red                     0.00454798556974\n",
        "RToptoLBot_cSym_Green                   0.00456591883701\n",
        "LefttoRight_cSym_Blue                   0.00474734366485\n",
        "LToptoRBot_cSym_Red                     0.00481812005081\n",
        "RToptoRBot_cSym_Red                     0.00486261578034\n",
        "LToptoLBot_cSym_Red                     0.00486841340644\n",
        "LefttoRight_cSym_Red                    0.00487150512262\n",
        "wholeIm_color_green                     0.00491636079117\n",
        "RToptoLBot_cSym_Red                     0.00496126552545\n",
        "RToptoRBot_cSym_Green                   0.00498502588287\n",
        "segIm_0_1_color_red                     0.00508294990843\n",
        "segIm_2_0_color_red                     0.00509120532185\n",
        "LToptoRTop_cSym_Red                     0.00510052634003\n",
        "LBottoRBot_cSym_Green                   0.0051034994004\n",
        "RToptoLBot_cSym_Blue                    0.00510731527081\n",
        "LefttoRight_cSym_Green                  0.00513613671403\n",
        "segIm_1_1_fft_phaseAvg                  0.00513748722384\n",
        "RToptoRBot_cSym_Blue                    0.00513749212684\n",
        "segIm_1_2_fft_phaseAvg                  0.00513797731285\n",
        "segIm_0_0_color_red                     0.00515515561665\n",
        "segIm_3_2_fft_phaseAvg                  0.00517158232868\n",
        "segIm_1_0_color_red                     0.00518218590715\n",
        "LBottoRBot_cSym_Red                     0.00520133515935\n",
        "segIm_1_2_color_red                     0.00520833720967\n",
        "ToptoBot_cSym_Blue                      0.00523263749721\n",
        "segIm_2_2_fft_phaseAvg                  0.00524789054182\n",
        "ToptoBot_cSym_Lum                       0.00527063601003\n",
        "LBottoRBot_cSym_Blue                    0.00527448876711\n",
        "segIm_0_1_color_gr                      0.00527874563612\n",
        "segIm_2_3_fft_phaseAvg                  0.00537787602019\n",
        "segIm_2_1_color_gr                      0.00539514412409\n",
        "segIm_0_0_fft_relMag                    0.00539935579185\n",
        "LToptoRBot_cSym_Blue                    0.00541040855231\n",
        "ToptoBot_cSym_Green                     0.00541864509143\n",
        "segIm_0_2_fft_phaseAvg                  0.0054262826781\n",
        "ToptoBot_cSym_Red                       0.00542848992013\n",
        "RToptoRBot_cSym_Lum                     0.00543108177769\n",
        "wholeIm_fft_phaseAvg                    0.00543391469549\n",
        "segIm_0_1_color_blue                    0.00543559080084\n",
        "segIm_2_2_color_blue                    0.00544590205076\n",
        "segIm_0_2_color_blue                    0.00547611798541\n",
        "segIm_1_0_color_blue                    0.00549118786691\n",
        "segIm_2_2_color_red                     0.00550739476312\n",
        "segIm_2_2_color_gr                      0.00552320242703\n",
        "segIm_0_0_fft_phaseAvg                  0.00552384204417\n",
        "segIm_2_0_color_blue                    0.00557349013435\n",
        "segIm_3_3_fft_phaseAvg                  0.00558860090041\n",
        "segIm_1_2_color_blue                    0.00563545286665\n",
        "LToptoRTop_cSym_Lum                     0.00564000646376\n",
        "segIm_2_0_color_gr                      0.00567531982238\n",
        "segIm_2_1_color_blue                    0.00568313553597\n",
        "segIm_0_1_fft_phaseAvg                  0.0057034816342\n",
        "segIm_2_1_color_red                     0.00571193128967\n",
        "LToptoRBot_cSym_Green                   0.00572090783614\n",
        "segIm_1_0_fft_phaseAvg                  0.00572974774326\n",
        "segIm_1_2_color_gr                      0.00575802089105\n",
        "segIm_2_0_fft_absMag                    0.00579286908306\n",
        "segIm_1_0_color_lum                     0.00579941469723\n",
        "LToptoRTop_cSym_Green                   0.0058033624605\n",
        "PCAcomp_5                               0.00581385968267\n",
        "segIm_1_3_fft_absMag                    0.00583513418604\n",
        "segIm_1_0_color_gr                      0.00584126630754\n",
        "segIm_2_1_fft_phaseAvg                  0.0058544050315\n",
        "LToptoLBot_cSym_Green                   0.00585701127218\n",
        "PCAcomp_10                              0.00586240367748\n",
        "segIm_0_0_color_blue                    0.00590533898266\n",
        "segIm_0_3_fft_phaseAvg                  0.00594432777979\n",
        "segIm_3_1_fft_phaseAvg                  0.00596551017028\n",
        "segIm_3_0_fft_phaseAvg                  0.00600622918048\n",
        "wholeIm_color_blue                      0.00602073169225\n",
        "segIm_2_0_fft_phaseAvg                  0.00603728305074\n",
        "wholeIm_fft_magQ                        0.00604551510223\n",
        "PCAcomp_3                               0.00611141398605\n",
        "PCAcomp_8                               0.00616062499378\n",
        "segIm_0_3_fft_absMag                    0.00618568927511\n",
        "segIm_0_0_color_gr                      0.00621439724493\n",
        "segIm_1_3_fft_phaseAvg                  0.00622913394947\n",
        "LToptoLBot_cSym_Lum                     0.00625457105693\n",
        "segIm_0_2_color_gr                      0.00627461264074\n",
        "wholeIm_color_lum                       0.00630594263866\n",
        "LBottoRBot_cSym_Lum                     0.00631015848697\n",
        "LefttoRight_cSym_Lum                    0.00631193928942\n",
        "RToptoLBot_cSym_Lum                     0.00634837581638\n",
        "segIm_1_2_color_lum                     0.00639750543639\n",
        "PCAcomp_9                               0.0064050104286\n",
        "segIm_1_2_fft_absMag                    0.00644862489421\n",
        "segIm_2_3_fft_absMag                    0.00646077878067\n",
        "segIm_0_0_color_lum                     0.00649488574996\n",
        "PCAcomp_12                              0.0065048718421\n",
        "segIm_1_1_color_gr                      0.00654528130855\n",
        "segIm_2_0_color_lum                     0.00655134121717\n",
        "segIm_1_1_fft_absMag                    0.00655159478671\n",
        "LToptoRTop_cSym_Blue                    0.00655679408754\n",
        "PCAcomp_13                              0.00663912126262\n",
        "LToptoRBot_cSym_Lum                     0.0066500586166\n",
        "PCAcomp_1                               0.00667180570494\n",
        "segIm_0_1_color_lum                     0.00667644846393\n",
        "segIm_3_0_fft_relMag                    0.00670033719291\n",
        "segIm_0_2_fft_absMag                    0.006773654564\n",
        "PCAcomp_14                              0.00683284493271\n",
        "segIm_2_0_fft_relMag                    0.00685836627556\n",
        "PCAcomp_0                               0.00690786478801\n",
        "segIm_2_1_color_lum                     0.00696167194962\n",
        "segIm_1_0_fft_absMag                    0.00700387728526\n",
        "segIm_3_0_fft_absMag                    0.00702136574594\n",
        "segIm_2_1_fft_absMag                    0.00711509232137\n",
        "segIm_0_2_color_lum                     0.00714286312753\n",
        "PCAcomp_7                               0.00714485802443\n",
        "numCorn_Harris_2_0.001                  0.00715540878579\n",
        "segIm_0_3_fft_relMag                    0.00722013049314\n",
        "segIm_1_3_fft_relMag                    0.00723452477768\n",
        "segIm_2_2_fft_relMag                    0.00725529991022\n",
        "PCAcomp_6                               0.00733120021854\n",
        "hEdge_to_Total_0.2                      0.00735574128081\n",
        "segIm_2_2_color_lum                     0.00737129152343\n",
        "hEdge_to_Total_0.1                      0.00743722621361\n",
        "segIm_3_3_fft_absMag                    0.00746362523388\n",
        "hEdge_to_Total_0.3                      0.00750367334305\n",
        "segIm_2_1_fft_relMag                    0.00763437071798\n",
        "segIm_0_0_fft_absMag                    0.00787222940659\n",
        "numCorn_Harris_6_0.001                  0.00798999168598\n",
        "segIm_0_2_fft_relMag                    0.00807512771444\n",
        "segIm_1_1_color_red                     0.00811253720778\n",
        "segIm_1_1_fft_relMag                    0.00816345345731\n",
        "numCorn_shi_2_0.001                     0.00833985985929\n",
        "numCorn_shi_6_0.001                     0.00851677912355\n",
        "hEdge_to_vEdge_0.3                      0.00856542965199\n",
        "PCAcomp_4                               0.00857497835015\n",
        "segIm_0_1_fft_absMag                    0.00867304723865\n",
        "segIm_1_0_fft_relMag                    0.00874031508249\n",
        "segIm_3_1_fft_absMag                    0.00875320966656\n",
        "vEdge_to_Total_0.2                      0.00881124243978\n",
        "segIm_1_1_color_blue                    0.00881590476837\n",
        "segIm_1_1_color_lum                     0.0088909459616\n",
        "PCAcomp_2                               0.00889213747076\n",
        "vEdge_to_Total_0.3                      0.00897885354154\n",
        "segIm_3_3_fft_relMag                    0.00938668149828\n",
        "PCAcomp_11                              0.00959323561419\n",
        "segIm_1_2_fft_relMag                    0.00967817122849\n",
        "segIm_3_2_fft_relMag                    0.00971570108872\n",
        "segIm_0_1_fft_relMag                    0.00976171507394\n",
        "segIm_2_2_fft_absMag                    0.0100654702021\n",
        "segIm_2_3_fft_relMag                    0.0102279243156\n",
        "segIm_3_2_fft_absMag                    0.0109247913105\n",
        "hEdge_to_vEdge_0.2                      0.0112205247755\n",
        "vEdge_to_Total_0.1                      0.0139290201086\n",
        "segIm_3_1_fft_relMag                    0.0156756382755\n",
        "hEdge_to_vEdge_0.1                      0.0181103540551\n",
        "##########################################\n"
       ]
      }
     ],
     "prompt_number": 12
    },
    {
     "cell_type": "heading",
     "level": 1,
     "metadata": {},
     "source": [
      "ADAM RUN --> And Finally... To run the Classifer on Validation Data"
     ]
    },
    {
     "cell_type": "code",
     "collapsed": false,
     "input": [
      "def run_final_classifier(path = \"/Users/andreagoldstein/Desktop/python_seminar_HW/Homework/hw4/Validation/\", forest=\"./trained_classifier.p\", model = []):\n",
      "    '''\n",
      "    runs trained classifier on validation images in given path. Can pass in model (clf) or load from 'forrest' path\n",
      "    '''\n",
      "    \n",
      "    #load classifier model if needed or just call from previous cell\n",
      "    if model == []:\n",
      "        clf = pickle.load(open('./trained_classifier.pickle', 'rb'))\n",
      "    else:\n",
      "        clf = model\n",
      "    \n",
      "    image_names = os.listdir(path)\n",
      "    fileid = []\n",
      "    if '.DS_Store' in image_names:\n",
      "        image_names.remove('.DS_Store')\n",
      "    for name in image_names:\n",
      "        if '.jpg' in name:\n",
      "            fileid.append(path + name)\n",
      "    \n",
      "    #first extract features from validation images\n",
      "    basicFeatures = extract_basic_features(fileid, validation=True)\n",
      "    pcaModel, PCA_Features  = extract_PCA_features(fileid, validation=True)\n",
      "    \n",
      "    #convert dicts to dataframe\n",
      "    basicFeatures_df = pd.DataFrame.from_dict(basicFeatures, orient=\"index\")\n",
      "    PCA_Features_df = pd.DataFrame.from_dict(PCA_Features, orient=\"index\")\n",
      "    \n",
      "    #merge features\n",
      "    validation_df = pd.merge(basicFeatures_df, PCA_Features_df, how='outer', left_index=True, right_index=True)\n",
      "    \n",
      "    useCats = [value for value in features_df.columns if value not in ['cat', 'hyperCat']] \n",
      "\n",
      "    #wantedFeaturesSeg = ['fft', 'PCA']\n",
      "    #useCats = []\n",
      "    #for feature in wantedFeaturesSeg:\n",
      "    #    useCats.extend([value for value in features_df.columns if feature in value])\n",
      "    #    useCats = pd.Index([value for value in features_df.columns if feature in value for feature in )\n",
      "    \n",
      "    val_x = validation_df[useCats].values            #matrix of feature data\n",
      "    scaled_val_x = preprocessing.scale(val_x)      #scale X data\n",
      "    \n",
      "    preds = clf.predict(scaled_val_x)              #use model to predict test_Y from test_X\n",
      "    #print preds\n",
      "    print_PredvsOutcome(image_names, retNames(preds))\n",
      "\n",
      "    \n",
      "    \n",
      "    \n"
     ],
     "language": "python",
     "metadata": {},
     "outputs": [],
     "prompt_number": 6
    },
    {
     "cell_type": "heading",
     "level": 1,
     "metadata": {},
     "source": [
      "ADAM RUN --> Final Classifier call"
     ]
    },
    {
     "cell_type": "code",
     "collapsed": false,
     "input": [
      "run_final_classifier(model = clf, path = \"/Users/andreagoldstein/Desktop/python_seminar_HW/Homework/hw4/Validation/\", forest=\"./trained_classifier.p\")"
     ],
     "language": "python",
     "metadata": {},
     "outputs": [],
     "prompt_number": 8
    },
    {
     "cell_type": "code",
     "collapsed": false,
     "input": [],
     "language": "python",
     "metadata": {},
     "outputs": []
    }
   ],
   "metadata": {}
  }
 ]
}