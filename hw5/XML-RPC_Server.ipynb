{
 "metadata": {
  "name": ""
 },
 "nbformat": 3,
 "nbformat_minor": 0,
 "worksheets": [
  {
   "cells": [
    {
     "cell_type": "code",
     "collapsed": false,
     "input": [
      "import SimpleXMLRPCServer\n",
      "import matplotlib.pyplot as plt\n",
      "import numpy as np\n",
      "import Image"
     ],
     "language": "python",
     "metadata": {},
     "outputs": [],
     "prompt_number": 1
    },
    {
     "cell_type": "code",
     "collapsed": false,
     "input": [
      "class Some_Class_We_Want_Remotely_Accessible:\n",
      "    def imageFlip(self, imageList, fname='origImage.jpg'):\n",
      "        '''\n",
      "        flips image on vertical axis to be upside down.\n",
      "        Input:\n",
      "        Imagelist -- a list of the image values across the channels\n",
      "        fname (optional) -- filename it should be saved as on the server\n",
      "        \n",
      "        Output:\n",
      "        newImage -- returns a list of the values of the altered image\n",
      "        '''\n",
      "        imArray = np.array(imageList, 'uint8')\n",
      "        counterUp = 0\n",
      "        newImage = np.zeros(np.shape(imArray), 'uint8')\n",
      "        for z in range(imArray.shape[0]-1, -1, -1):\n",
      "            if len(imArray.shape)==3:\n",
      "                newImage[counterUp] = imArray[z, :, :]\n",
      "            else:\n",
      "                newImage[counterUp] = imArray[z]\n",
      "                \n",
      "            counterUp +=1\n",
      "        \n",
      "        imgOrig = Image.fromarray(imArray)\n",
      "        \n",
      "        #Save New and Old Image\n",
      "        imgOrig.save('./Server/preFlip' +fname)\n",
      "        imgNew = Image.fromarray(newImage)\n",
      "        imgNew.save('./Server/postFlip' +fname)\n",
      "        return newImage.tolist(), 'Flip'\n",
      "\n",
      "    def invertColor(self, imageList, fname='origImage.jpg'):\n",
      "        '''\n",
      "        Inverts the color of the image\n",
      "        Input:\n",
      "        Imagelist -- a list of the image values across the channels\n",
      "        fname (optional) -- filename it should be saved as on the server\n",
      "        \n",
      "        Output:\n",
      "        newImage -- returns a list of the values of the altered image\n",
      "        '''\n",
      "        imArray = np.array(imageList, 'uint8')\n",
      "        colorConversion = dict()\n",
      "        counterUp = 0\n",
      "        newImage = np.zeros(np.shape(imArray), 'uint8')\n",
      "        \n",
      "        for i, z in zip(range(0, 256, 1), range(255, -1, -1)):\n",
      "            colorConversion.update({i: z}) \n",
      "            \n",
      "        for i in range(imArray.shape[0]):\n",
      "            for j in range(imArray.shape[1]):\n",
      "                if len(imArray.shape)==3:\n",
      "                    for k in range(imArray.shape[2]):\n",
      "                        newImage[i, j, k] = colorConversion[imArray[i, j, k]]\n",
      "                else:\n",
      "                    newImage[i, j] = colorConversion[imArray[i, j]]\n",
      "        \n",
      "        imgOrig = Image.fromarray(imArray)\n",
      "        imgOrig.save('./Server/preInvert'  +fname)\n",
      "        \n",
      "        imgNew = Image.fromarray(newImage)\n",
      "        imgNew.save('./Server/postInvert' +fname)\n",
      "        \n",
      "        \n",
      "        return newImage.tolist(), 'Invert'\n",
      "    \n",
      "    def colorChannelSwap(self, imageList, fname='origImage.jpg'):\n",
      "        '''\n",
      "        generates a random order of the color channels and applies it to the image. Will only change color images and has \n",
      "        no effect on greyscale images\n",
      "        \n",
      "        Note: can produce the same output as the original image since the generation of the number list is random\n",
      "        \n",
      "        Input:\n",
      "        Imagelist -- a list of the image values across the channels\n",
      "        fname (optional) -- filename it should be saved as on the server\n",
      "        \n",
      "        Output:\n",
      "        newImage -- returns a list of the values of the altered image\n",
      "        '''\n",
      "        imArray = np.array(imageList, 'uint8')\n",
      "        colorConversion = dict()\n",
      "        counterUp = 0\n",
      "        newImage = np.zeros(np.shape(imArray), 'uint8')\n",
      "        \n",
      "        colorChannelSwap = np.array([0, 1, 2])\n",
      "        np.random.shuffle(colorChannelSwap)\n",
      "        \n",
      "        \n",
      "        if len(imArray.shape)==3:\n",
      "            #If RGB array run through two first two dimesnions and swap color channels \n",
      "            for i in range(imArray.shape[0]):\n",
      "                 for j in range(imArray.shape[1]):\n",
      "                    \n",
      "                        newImage[i, j, 0] = imArray[i, j, colorChannelSwap[0]]\n",
      "                        newImage[i, j, 1] = imArray[i, j, colorChannelSwap[1]]\n",
      "                        newImage[i, j, 2] = imArray[i, j, colorChannelSwap[2]]\n",
      "        else:\n",
      "            newImage = imArray\n",
      "            print 'Warning: greyscale input detected, color swap not possible.'\n",
      "            \n",
      "        imgOrig = Image.fromarray(imArray)\n",
      "        imgOrig.save('./Server/preChannelSwap' +fname)\n",
      "                \n",
      "        imgNew = Image.fromarray(newImage)\n",
      "        imgNew.save('./Server/postChannelSwap' +fname)\n",
      "                \n",
      "        return newImage.tolist(), 'ChannelSwap'\n",
      "    \n",
      "host, port = \"\", 5021\n",
      "\n",
      "server = SimpleXMLRPCServer.SimpleXMLRPCServer((host, port), allow_none=True)\n",
      "server.register_instance(Some_Class_We_Want_Remotely_Accessible())\n",
      "server.register_multicall_functions()\n",
      "server.register_introspection_functions()\n",
      "print \"XMLRPC Server is starting at:\", host, port"
     ],
     "language": "python",
     "metadata": {},
     "outputs": [
      {
       "output_type": "stream",
       "stream": "stdout",
       "text": [
        "XMLRPC Server is starting at:  5021\n"
       ]
      }
     ],
     "prompt_number": 2
    },
    {
     "cell_type": "code",
     "collapsed": false,
     "input": [
      "server.serve_forever()\n"
     ],
     "language": "python",
     "metadata": {},
     "outputs": [
      {
       "output_type": "stream",
       "stream": "stderr",
       "text": [
        "127.0.0.1 - - [09/Oct/2013 20:38:21] \"POST /RPC2 HTTP/1.1\" 200 -\n",
        "127.0.0.1 - - [09/Oct/2013 20:38:22] \"POST /RPC2 HTTP/1.1\" 200 -\n"
       ]
      }
     ],
     "prompt_number": "*"
    },
    {
     "cell_type": "code",
     "collapsed": false,
     "input": [],
     "language": "python",
     "metadata": {},
     "outputs": []
    }
   ],
   "metadata": {}
  }
 ]
}