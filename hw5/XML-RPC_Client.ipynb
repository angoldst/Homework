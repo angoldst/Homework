{
 "metadata": {
  "name": ""
 },
 "nbformat": 3,
 "nbformat_minor": 0,
 "worksheets": [
  {
   "cells": [
    {
     "cell_type": "code",
     "collapsed": false,
     "input": [
      "import xmlrpclib, sys\n",
      "import Image\n",
      "import numpy as np\n",
      "\n",
      "def openServer():\n",
      "    '''\n",
      "    Opens server\n",
      "    '''\n",
      "    host, port = \"\", 5021 #\"\" is the local host ip address\n",
      "    server = xmlrpclib.ServerProxy(\"http://%s:%d\" % (host, port))\n",
      "    available_methods = server.system.listMethods()\n",
      "    print \"Available methods from server:\"\n",
      "    for method in available_methods:\n",
      "        print \"\\t\" + method\n",
      "\n",
      "def imageManipulation(fname, method):\n",
      "    '''\n",
      "    enter input name and the type of image manipulation you want to do. Saves a copy of the original and altered image in\n",
      "    ./Client/ folder. \n",
      "    \n",
      "    Image alteration options are:\n",
      "    1) colorChannelSwap\n",
      "    2) imageFlip\n",
      "    3) invertColor\n",
      "    \n",
      "    to get help on each function you can call the 'system.methodHelp()' function with the name of the method as the argument\n",
      "    \n",
      "    Input\n",
      "    fname -- filename of the image you want to alter\n",
      "    method -- string of the type of image manipulation you want to accomplish\n",
      "    \n",
      "    output:\n",
      "    newImage = returns an array of the new newly altered image\n",
      "    '''\n",
      "    \n",
      "    if method not in server.system.listMethods():\n",
      "        print 'method: \\'%s\\' was not in the list of possible methods. Please try again' %method\n",
      "        return\n",
      "    else:\n",
      "        try:\n",
      "            origImage = plt.imread(fname)\n",
      "        except:\n",
      "            print 'error in loading picture. Please check filename and try again'\n",
      "            return\n",
      "        \n",
      "        newImage, tag = eval('server.%s(origImage.tolist(), fname)' %method)\n",
      "        newImage = np.array(newImage, 'uint8')\n",
      "        newIm = Image.fromarray(newImage)\n",
      "        newIm.save('./Client/post' + tag + fname)\n",
      "            \n",
      "        origIm = Image.fromarray(origImage)\n",
      "        origIm.save('./Client/pre' +tag + fname)\n",
      "    \n",
      "    return newImage\n",
      "            \n",
      "            \n",
      "        \n",
      "        "
     ],
     "language": "python",
     "metadata": {},
     "outputs": [],
     "prompt_number": 47
    },
    {
     "cell_type": "code",
     "collapsed": false,
     "input": [
      "##### First open server###########\n",
      "openServer()\n",
      "\n",
      "########Then pass in image to transpform as well as the specific operation#####\n",
      "#Open server will also list the avialble methods. To receive docstrings of the image manipulation methods\n",
      "#call the 'system.methodHelp()' function with the name of the method as the argument\n",
      "\n",
      "####Images for the client will be saved in the ./Client folder while images for the server will be saved in the ./Server folder\n",
      "newIm = imageManipulation('TestImageBW.jpg', 'imageFlip')\n"
     ],
     "language": "python",
     "metadata": {},
     "outputs": [
      {
       "output_type": "stream",
       "stream": "stdout",
       "text": [
        "Available methods from server:\n",
        "\tcolorChannelSwap\n",
        "\timageFlip\n",
        "\tinvertColor\n",
        "\tsystem.listMethods\n",
        "\tsystem.methodHelp\n",
        "\tsystem.methodSignature\n",
        "\tsystem.multicall\n"
       ]
      }
     ],
     "prompt_number": 50
    }
   ],
   "metadata": {}
  }
 ]
}